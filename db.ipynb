{
 "cells": [
  {
   "cell_type": "markdown",
   "metadata": {},
   "source": [
    "# Clear then setup database"
   ]
  },
  {
   "cell_type": "code",
   "execution_count": 1,
   "metadata": {},
   "outputs": [],
   "source": [
    "from dotenv.main import load_dotenv\n",
    "from pymongo import MongoClient\n",
    "import os\n",
    "\n",
    "load_dotenv('./.env.local')\n",
    "\n",
    "MongoClient(os.environ.get('MONGO_URI')).drop_database(\n",
    "    os.environ.get('DB_NAME'))\n"
   ]
  },
  {
   "cell_type": "code",
   "execution_count": 2,
   "metadata": {},
   "outputs": [
    {
     "data": {
      "text/plain": [
       "['clients', 'projects', 'files']"
      ]
     },
     "execution_count": 2,
     "metadata": {},
     "output_type": "execute_result"
    }
   ],
   "source": [
    "from typing import OrderedDict\n",
    "from pymongo import ASCENDING, MongoClient\n",
    "from pymongo.errors import CollectionInvalid\n",
    "\n",
    "load_dotenv('./.env.local')\n",
    "client = MongoClient(os.environ.get('MONGO_URI'))\n",
    "db = client['buffalographics']\n",
    "\n",
    "collections = ['clients', 'projects', 'files']\n",
    "schemas = {\n",
    "    'clients':\n",
    "    OrderedDict({\n",
    "        'collMod': 'clients',\n",
    "        'validator': {\n",
    "            '$jsonSchema': {\n",
    "                'bsonType': 'object',\n",
    "                'properties': {\n",
    "                    'name': {\n",
    "                        'bsonType': 'string',\n",
    "                        'description': 'Company Name'\n",
    "                    },\n",
    "                    'directory': {\n",
    "                        'bsonType': 'string',\n",
    "                        'description': 'Path to client folder'\n",
    "                    }\n",
    "                },\n",
    "                'required': ['name', 'directory']\n",
    "            }\n",
    "        }\n",
    "    }),\n",
    "    'projects':\n",
    "    OrderedDict({\n",
    "        'collMod': 'projects',\n",
    "        'validator': {\n",
    "            '$jsonSchema': {\n",
    "                'bsonType': 'object',\n",
    "                'properties': {\n",
    "                    'name': {\n",
    "                        'bsonType': 'string',\n",
    "                        'description': 'Project Name'\n",
    "                    },\n",
    "                    'client': {\n",
    "                        'bsonType': 'string',\n",
    "                        'description': 'Company Name'\n",
    "                    },\n",
    "                    'directory': {\n",
    "                        'bsonType': 'string',\n",
    "                        'description': 'Path to project folder'\n",
    "                    }\n",
    "                },\n",
    "                'required': ['name', 'client', 'directory']\n",
    "            }\n",
    "        }\n",
    "    })\n",
    "}\n",
    "\n",
    "for col in collections:\n",
    "\n",
    "    try:\n",
    "        db.create_collection(col)\n",
    "        if schemas.get(col) is not None:\n",
    "            db.command(schemas[col])\n",
    "\n",
    "    except CollectionInvalid as err:\n",
    "        # print(err)\n",
    "        pass\n",
    "\n",
    "db.clients.create_index([\n",
    "    ('name', ASCENDING),\n",
    "], unique=True)\n",
    "\n",
    "db.projects.create_index([('name', ASCENDING), ('client', ASCENDING)],\n",
    "                         unique=True)\n",
    "\n",
    "db.files.create_index([('path', ASCENDING)], unique=True)\n",
    "\n",
    "db.list_collection_names()\n"
   ]
  },
  {
   "cell_type": "code",
   "execution_count": 3,
   "metadata": {},
   "outputs": [
    {
     "name": "stdout",
     "output_type": "stream",
     "text": [
      "bell_concrete-mixer-print-bell_cc_drum_graphic_qty_2.jpg\n"
     ]
    }
   ],
   "source": [
    "p = 'Bell Concrete/mixer/PRINT/bell_cc_drum_graphic_qty_2.pdf'\n",
    "\n",
    "s = p.replace(' ','_').replace('/','-').replace('.pdf',\n",
    "                                                '.jpg').lower()\n",
    "print(s)"
   ]
  }
 ],
 "metadata": {
  "interpreter": {
   "hash": "ac2eaa0ea0ebeafcc7822e65e46aa9d4f966f30b695406963e145ea4a91cd4fc"
  },
  "kernelspec": {
   "display_name": "Python 3.9.5 64-bit ('python@3.9')",
   "name": "python3"
  },
  "language_info": {
   "name": "python",
   "version": ""
  },
  "orig_nbformat": 2
 },
 "nbformat": 4,
 "nbformat_minor": 2
}