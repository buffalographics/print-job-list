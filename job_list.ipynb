{
 "cells": [
  {
   "cell_type": "code",
   "execution_count": 1,
   "metadata": {},
   "outputs": [],
   "source": [
    "import json\n",
    "\n",
    "\n",
    "def pretty_print(arg):\n",
    "    print(json.dumps(arg, indent=4, sort_keys=True))\n"
   ]
  },
  {
   "cell_type": "markdown",
   "metadata": {},
   "source": [
    "## Paths"
   ]
  },
  {
   "cell_type": "code",
   "execution_count": 33,
   "metadata": {},
   "outputs": [
    {
     "name": "stdout",
     "output_type": "stream",
     "text": [
      "three two\n"
     ]
    },
    {
     "ename": "TypeError",
     "evalue": "unhashable type: 'list'",
     "output_type": "error",
     "traceback": [
      "\u001b[0;31m---------------------------------------------------------------------------\u001b[0m",
      "\u001b[0;31mTypeError\u001b[0m                                 Traceback (most recent call last)",
      "\u001b[0;32m<ipython-input-33-ef6ba8b324b9>\u001b[0m in \u001b[0;36m<module>\u001b[0;34m\u001b[0m\n\u001b[1;32m     11\u001b[0m \u001b[0;34m\u001b[0m\u001b[0m\n\u001b[1;32m     12\u001b[0m \u001b[0;34m\u001b[0m\u001b[0m\n\u001b[0;32m---> 13\u001b[0;31m \u001b[0mpath_tree\u001b[0m\u001b[0;34m(\u001b[0m\u001b[0;34m\"one/two/three\"\u001b[0m\u001b[0;34m)\u001b[0m\u001b[0;34m\u001b[0m\u001b[0;34m\u001b[0m\u001b[0m\n\u001b[0m",
      "\u001b[0;32m<ipython-input-33-ef6ba8b324b9>\u001b[0m in \u001b[0;36mpath_tree\u001b[0;34m(str)\u001b[0m\n\u001b[1;32m      8\u001b[0m     \u001b[0marr\u001b[0m\u001b[0;34m=\u001b[0m\u001b[0mstr\u001b[0m\u001b[0;34m.\u001b[0m\u001b[0msplit\u001b[0m\u001b[0;34m(\u001b[0m\u001b[0;34m'/'\u001b[0m\u001b[0;34m)\u001b[0m\u001b[0;34m\u001b[0m\u001b[0;34m\u001b[0m\u001b[0m\n\u001b[1;32m      9\u001b[0m     \u001b[0marr\u001b[0m\u001b[0;34m=\u001b[0m\u001b[0marr\u001b[0m\u001b[0;34m[\u001b[0m\u001b[0;34m:\u001b[0m\u001b[0;34m:\u001b[0m\u001b[0;34m-\u001b[0m\u001b[0;36m1\u001b[0m\u001b[0;34m]\u001b[0m\u001b[0;34m\u001b[0m\u001b[0;34m\u001b[0m\u001b[0m\n\u001b[0;32m---> 10\u001b[0;31m     \u001b[0;32mreturn\u001b[0m \u001b[0mreduce\u001b[0m\u001b[0;34m(\u001b[0m\u001b[0mnester\u001b[0m\u001b[0;34m,\u001b[0m \u001b[0marr\u001b[0m\u001b[0;34m)\u001b[0m\u001b[0;34m\u001b[0m\u001b[0;34m\u001b[0m\u001b[0m\n\u001b[0m\u001b[1;32m     11\u001b[0m \u001b[0;34m\u001b[0m\u001b[0m\n\u001b[1;32m     12\u001b[0m \u001b[0;34m\u001b[0m\u001b[0m\n",
      "\u001b[0;32m<ipython-input-33-ef6ba8b324b9>\u001b[0m in \u001b[0;36mnester\u001b[0;34m(arg, arg2)\u001b[0m\n\u001b[1;32m      3\u001b[0m \u001b[0;32mdef\u001b[0m \u001b[0mnester\u001b[0m\u001b[0;34m(\u001b[0m\u001b[0marg\u001b[0m\u001b[0;34m,\u001b[0m\u001b[0marg2\u001b[0m\u001b[0;34m)\u001b[0m\u001b[0;34m:\u001b[0m\u001b[0;34m\u001b[0m\u001b[0;34m\u001b[0m\u001b[0m\n\u001b[1;32m      4\u001b[0m      \u001b[0mprint\u001b[0m\u001b[0;34m(\u001b[0m\u001b[0marg\u001b[0m\u001b[0;34m,\u001b[0m\u001b[0marg2\u001b[0m\u001b[0;34m)\u001b[0m\u001b[0;34m\u001b[0m\u001b[0;34m\u001b[0m\u001b[0m\n\u001b[0;32m----> 5\u001b[0;31m      \u001b[0;32mreturn\u001b[0m \u001b[0;34m{\u001b[0m\u001b[0;34m[\u001b[0m\u001b[0marg2\u001b[0m\u001b[0;34m]\u001b[0m\u001b[0;34m:\u001b[0m \u001b[0;34m''\u001b[0m\u001b[0;34m}\u001b[0m\u001b[0;34m\u001b[0m\u001b[0;34m\u001b[0m\u001b[0m\n\u001b[0m\u001b[1;32m      6\u001b[0m \u001b[0;34m\u001b[0m\u001b[0m\n\u001b[1;32m      7\u001b[0m \u001b[0;32mdef\u001b[0m \u001b[0mpath_tree\u001b[0m\u001b[0;34m(\u001b[0m\u001b[0mstr\u001b[0m\u001b[0;34m)\u001b[0m\u001b[0;34m:\u001b[0m\u001b[0;34m\u001b[0m\u001b[0;34m\u001b[0m\u001b[0m\n",
      "\u001b[0;31mTypeError\u001b[0m: unhashable type: 'list'"
     ]
    }
   ],
   "source": [
    "from functools import reduce\n",
    "\n",
    "def nester(arg,arg2):\n",
    "     print(arg,arg2)\n",
    "     return {[arg2]: ''}\n",
    "\n",
    "def path_tree(str):\n",
    "    arr=str.split('/')\n",
    "    arr=arr[::-1] \n",
    "    obj = {}\n",
    "    for item in arr:\n",
    "        \n",
    "    return reduce(nester, arr)\n",
    "    \n",
    "    \n",
    "path_tree(\"one/two/three\")\n"
   ]
  },
  {
   "cell_type": "code",
   "execution_count": null,
   "metadata": {},
   "outputs": [],
   "source": [
    "import os\n",
    "from glob import glob\n",
    "import utils\n",
    "import pdfrw\n",
    "from pdfrw import PdfReader\n",
    "\n",
    "path = \"/users/glweems/Desktop/clients\""
   ]
  },
  {
   "cell_type": "code",
   "execution_count": 38,
   "metadata": {},
   "outputs": [
    {
     "ename": "NameError",
     "evalue": "name 'path' is not defined",
     "output_type": "error",
     "traceback": [
      "\u001b[0;31m---------------------------------------------------------------------------\u001b[0m",
      "\u001b[0;31mNameError\u001b[0m                                 Traceback (most recent call last)",
      "\u001b[0;32m<ipython-input-38-9e085135526d>\u001b[0m in \u001b[0;36m<module>\u001b[0;34m\u001b[0m\n\u001b[1;32m     41\u001b[0m \u001b[0;34m\u001b[0m\u001b[0m\n\u001b[1;32m     42\u001b[0m \u001b[0;34m\u001b[0m\u001b[0m\n\u001b[0;32m---> 43\u001b[0;31m \u001b[0mdata\u001b[0m \u001b[0;34m=\u001b[0m \u001b[0mbuilder\u001b[0m\u001b[0;34m(\u001b[0m\u001b[0mpath\u001b[0m\u001b[0;34m)\u001b[0m\u001b[0;34m\u001b[0m\u001b[0;34m\u001b[0m\u001b[0m\n\u001b[0m\u001b[1;32m     44\u001b[0m \u001b[0;34m\u001b[0m\u001b[0m\n\u001b[1;32m     45\u001b[0m \u001b[0;34m\u001b[0m\u001b[0m\n",
      "\u001b[0;31mNameError\u001b[0m: name 'path' is not defined"
     ]
    }
   ],
   "source": [
    "def builder(path):\n",
    "    paths = os.listdir(path)\n",
    "    obj = {}\n",
    "    for item in paths:\n",
    "        i = 0\n",
    "        jobs = {}\n",
    "        dir = os.path.join(path, item)\n",
    "        _jobs = glob(dir+'/**/*/PRINT', recursive=True)\n",
    "        \n",
    "        for job in _jobs: \n",
    "            job_full_path = job\n",
    "            job = job.replace(dir+'/', '').replace('/PRINT','')\n",
    "            files = {}\n",
    "            \n",
    "            for file in glob(job_full_path+'/*.pdf'):\n",
    "                file_name = file.split('/').pop()\n",
    "                media_box = PdfReader(file).pages[0].MediaBox\n",
    "                width = float(media_box[2])/72\n",
    "                height = float(media_box[3])/72\n",
    "                # height = media_box[3]/72\n",
    "                file_obj = {\n",
    "                    'full_path': file,\n",
    "                    'file_name': file_name,\n",
    "                    'width':width,\n",
    "                    'height': height\n",
    "                }\n",
    "\n",
    "                files[file_name] = file_obj\n",
    "\n",
    "            jobs[job] = {\n",
    "                'full_path': job_full_path,\n",
    "                'files': files\n",
    "            }\n",
    "\n",
    "        obj[item] = {\n",
    "            'full_path': dir,\n",
    "            'jobs': jobs\n",
    "\n",
    "        }\n",
    "    return obj\n",
    "\n",
    "\n",
    "data = builder(path)\n",
    "\n",
    "\n",
    "\n"
   ]
  },
  {
   "cell_type": "code",
   "execution_count": 37,
   "metadata": {},
   "outputs": [
    {
     "ename": "NameError",
     "evalue": "name 'csv_columns' is not defined",
     "output_type": "error",
     "traceback": [
      "\u001b[0;31m---------------------------------------------------------------------------\u001b[0m",
      "\u001b[0;31mNameError\u001b[0m                                 Traceback (most recent call last)",
      "\u001b[0;32m<ipython-input-37-77d8afbd4a38>\u001b[0m in \u001b[0;36m<module>\u001b[0;34m\u001b[0m\n\u001b[1;32m      3\u001b[0m \u001b[0;32mtry\u001b[0m\u001b[0;34m:\u001b[0m\u001b[0;34m\u001b[0m\u001b[0;34m\u001b[0m\u001b[0m\n\u001b[1;32m      4\u001b[0m     \u001b[0;32mwith\u001b[0m \u001b[0mopen\u001b[0m\u001b[0;34m(\u001b[0m\u001b[0mcsv_file\u001b[0m\u001b[0;34m,\u001b[0m \u001b[0;34m'w'\u001b[0m\u001b[0;34m)\u001b[0m \u001b[0;32mas\u001b[0m \u001b[0mcsvfile\u001b[0m\u001b[0;34m:\u001b[0m\u001b[0;34m\u001b[0m\u001b[0;34m\u001b[0m\u001b[0m\n\u001b[0;32m----> 5\u001b[0;31m         \u001b[0mwriter\u001b[0m \u001b[0;34m=\u001b[0m \u001b[0mcsv\u001b[0m\u001b[0;34m.\u001b[0m\u001b[0mDictWriter\u001b[0m\u001b[0;34m(\u001b[0m\u001b[0mcsvfile\u001b[0m\u001b[0;34m,\u001b[0m \u001b[0mfieldnames\u001b[0m\u001b[0;34m=\u001b[0m\u001b[0mcsv_columns\u001b[0m\u001b[0;34m)\u001b[0m\u001b[0;34m\u001b[0m\u001b[0;34m\u001b[0m\u001b[0m\n\u001b[0m\u001b[1;32m      6\u001b[0m         \u001b[0mwriter\u001b[0m\u001b[0;34m.\u001b[0m\u001b[0mwriteheader\u001b[0m\u001b[0;34m(\u001b[0m\u001b[0;34m)\u001b[0m\u001b[0;34m\u001b[0m\u001b[0;34m\u001b[0m\u001b[0m\n\u001b[1;32m      7\u001b[0m         \u001b[0;32mfor\u001b[0m \u001b[0mdata\u001b[0m \u001b[0;32min\u001b[0m \u001b[0mdict_data\u001b[0m\u001b[0;34m:\u001b[0m\u001b[0;34m\u001b[0m\u001b[0;34m\u001b[0m\u001b[0m\n",
      "\u001b[0;31mNameError\u001b[0m: name 'csv_columns' is not defined"
     ]
    }
   ],
   "source": [
    "import csv\n",
    "csv_file = \"test.csv\"\n",
    "data = \n",
    "try:\n",
    "    with open(csv_file, 'w') as csvfile:\n",
    "        writer = csv.DictWriter(csvfile, fieldnames=csv_columns)\n",
    "        writer.writeheader()\n",
    "        for data in dict_data:\n",
    "            writer.writerow(data)\n",
    "except IOError:\n",
    "    print(\"I/O error\")\n"
   ]
  },
  {
   "cell_type": "code",
   "execution_count": null,
   "metadata": {},
   "outputs": [
    {
     "name": "stdout",
     "output_type": "stream",
     "text": [
      "[\n",
      "    \"TAP Leasing\",\n",
      "    \"Charley's Concrete\",\n",
      "    \"Titan Ready Mix\",\n",
      "    \"Bell Concrete\",\n",
      "    \"Estrada Ready Mix Concrete\",\n",
      "    \"Numo RMFG\",\n",
      "    \"Raptor Concrete\",\n",
      "    \"C-CON Services\",\n",
      "    \"Yamaha 3\",\n",
      "    \"H&S Excavation\",\n",
      "    \"Second Chance Boxing\",\n",
      "    \"BMCR Concrete\",\n",
      "    \"Preferred Materials\",\n",
      "    \"H&H Concrete\",\n",
      "    \"Pegasus Link Constructors\",\n",
      "    \"Wildcatter Redi-Mix\",\n",
      "    \"The Hornet Stop\",\n",
      "    \"NeBo Trucking Inc\"\n",
      "]\n",
      "jobs:  []\n",
      "jobs:  [\"/Volumes/GoogleDrive/Shared drives/Buffalo Graphics/clients/Charley's Concrete/mixer/PRINT/usdot_number.pdf\", \"/Volumes/GoogleDrive/Shared drives/Buffalo Graphics/clients/Charley's Concrete/mixer/PRINT/hood_graphic\", \"/Volumes/GoogleDrive/Shared drives/Buffalo Graphics/clients/Charley's Concrete/mixer/PRINT/hopper_logo\", \"/Volumes/GoogleDrive/Shared drives/Buffalo Graphics/clients/Charley's Concrete/mixer/PRINT/drum_stripe\", \"/Volumes/GoogleDrive/Shared drives/Buffalo Graphics/clients/Charley's Concrete/mixer/PRINT/mixer_door_cut_files.pdf\", \"/Volumes/GoogleDrive/Shared drives/Buffalo Graphics/clients/Charley's Concrete/mixer/PRINT/hood_stripes_cut_files.pdf\", \"/Volumes/GoogleDrive/Shared drives/Buffalo Graphics/clients/Charley's Concrete/mixer/PRINT/drum_logo_blue.pdf\", \"/Volumes/GoogleDrive/Shared drives/Buffalo Graphics/clients/Charley's Concrete/mixer/PRINT/drum_logo_white_concrete.pdf\", \"/Volumes/GoogleDrive/Shared drives/Buffalo Graphics/clients/Charley's Concrete/mixer/PRINT/drum_logo_red_concrete.pdf\", \"/Volumes/GoogleDrive/Shared drives/Buffalo Graphics/clients/Charley's Concrete/tractor/PRINT/charleys_cc_mixer_drivers_white_43x13in.pdf\", \"/Volumes/GoogleDrive/Shared drives/Buffalo Graphics/clients/Charley's Concrete/tractor/PRINT/charleys_cc_mixer_pass_white_43x13in.pdf\", \"/Volumes/GoogleDrive/Shared drives/Buffalo Graphics/clients/Charley's Concrete/tractor/PRINT/charleys_cc_mixer_drivers_red_41x10in.pdf\", \"/Volumes/GoogleDrive/Shared drives/Buffalo Graphics/clients/Charley's Concrete/tractor/PRINT/charleys_cc_mixer_pass_red_41x10in.pdf\", \"/Volumes/GoogleDrive/Shared drives/Buffalo Graphics/clients/Charley's Concrete/tractor/PRINT/charleys_cc_tractor_door_20x20in.pdf\", \"/Volumes/GoogleDrive/Shared drives/Buffalo Graphics/clients/Charley's Concrete/tractor/PRINT/charleys_cc_tractor_door_white_20x20in.pdf\", \"/Volumes/GoogleDrive/Shared drives/Buffalo Graphics/clients/Charley's Concrete/tractor/PRINT/charleys_cc_tractor_door_blue_19x17in.pdf\", \"/Volumes/GoogleDrive/Shared drives/Buffalo Graphics/clients/Charley's Concrete/tractor/PRINT/charleys_cc_tractor_door_red_19x10in.pdf\", \"/Volumes/GoogleDrive/Shared drives/Buffalo Graphics/clients/Charley's Concrete/tractor/PRINT/usdot_number.pdf\", \"/Volumes/GoogleDrive/Shared drives/Buffalo Graphics/clients/Charley's Concrete/tractor/PRINT/charleys_cc_tractor_door_blue_19x17in (1).pdf\"]\n",
      "jobs:  []\n",
      "jobs:  []\n",
      "jobs:  []\n",
      "jobs:  ['/Volumes/GoogleDrive/Shared drives/Buffalo Graphics/clients/Numo RMFG/saftey_stickers/kit_1/PRINT/KIT_1_INSTRUCTION_2.pdf', '/Volumes/GoogleDrive/Shared drives/Buffalo Graphics/clients/Numo RMFG/saftey_stickers/kit_1/PRINT/KIT_1_CAUTION_1.pdf', '/Volumes/GoogleDrive/Shared drives/Buffalo Graphics/clients/Numo RMFG/saftey_stickers/kit_1/PRINT/KIT_1_CAUTION_2.pdf', '/Volumes/GoogleDrive/Shared drives/Buffalo Graphics/clients/Numo RMFG/saftey_stickers/kit_1/PRINT/KIT_1_DANGER_2.pdf', '/Volumes/GoogleDrive/Shared drives/Buffalo Graphics/clients/Numo RMFG/saftey_stickers/kit_1/PRINT/KIT_1_DANGER.pdf', '/Volumes/GoogleDrive/Shared drives/Buffalo Graphics/clients/Numo RMFG/saftey_stickers/kit_3/PRINT/numo_kit_3_danger.pdf', '/Volumes/GoogleDrive/Shared drives/Buffalo Graphics/clients/Numo RMFG/saftey_stickers/kit_3/PRINT/numo_kit_3_danger_2.pdf', '/Volumes/GoogleDrive/Shared drives/Buffalo Graphics/clients/Numo RMFG/saftey_stickers/kit_3/PRINT/numo_kit_3_danger_3.pdf', '/Volumes/GoogleDrive/Shared drives/Buffalo Graphics/clients/Numo RMFG/saftey_stickers/kit_3/PRINT/numo_kit_3_operators_instructions.pdf', '/Volumes/GoogleDrive/Shared drives/Buffalo Graphics/clients/Numo RMFG/saftey_stickers/kit_3/PRINT/numo_kit_3_operators_instructions_2.pdf', '/Volumes/GoogleDrive/Shared drives/Buffalo Graphics/clients/Numo RMFG/saftey_stickers/kit_3/PRINT/numo_kit_3_operators_instructions_3.pdf', '/Volumes/GoogleDrive/Shared drives/Buffalo Graphics/clients/Numo RMFG/saftey_stickers/kit_3/PRINT/numo_kit_3_operators_instructions_4.pdf', '/Volumes/GoogleDrive/Shared drives/Buffalo Graphics/clients/Numo RMFG/saftey_stickers/kit_3/PRINT/numo_kit_3_notice.pdf', '/Volumes/GoogleDrive/Shared drives/Buffalo Graphics/clients/Numo RMFG/saftey_stickers/kit_3/PRINT/numo_kit_3_warning.pdf', '/Volumes/GoogleDrive/Shared drives/Buffalo Graphics/clients/Numo RMFG/saftey_stickers/kit_3/PRINT/numo_kit_3_warning_2.pdf', '/Volumes/GoogleDrive/Shared drives/Buffalo Graphics/clients/Numo RMFG/saftey_stickers/kit_3/PRINT/numo_kit_3_safety_notice.pdf', '/Volumes/GoogleDrive/Shared drives/Buffalo Graphics/clients/Numo RMFG/saftey_stickers/kit_3/PRINT/numo_kit_3_no_smoking.pdf']\n",
      "jobs:  []\n",
      "jobs:  []\n",
      "jobs:  []\n",
      "jobs:  []\n",
      "jobs:  []\n",
      "jobs:  []\n",
      "jobs:  []\n",
      "jobs:  ['/Volumes/GoogleDrive/Shared drives/Buffalo Graphics/clients/H&H Concrete/volumetric_mixer/PRINT/H&H_CC_concrete_on_demand_qty_2.pdf', '/Volumes/GoogleDrive/Shared drives/Buffalo Graphics/clients/H&H Concrete/volumetric_mixer/PRINT/H&H_CC_phone_number_KELLER_qty_2.pdf', '/Volumes/GoogleDrive/Shared drives/Buffalo Graphics/clients/H&H Concrete/volumetric_mixer/PRINT/H&H_CC_phone_number_AUSTIN_qty_2.pdf', '/Volumes/GoogleDrive/Shared drives/Buffalo Graphics/clients/H&H Concrete/volumetric_mixer/PRINT/H&H_CC_dog_graphic_qty_7.pdf', '/Volumes/GoogleDrive/Shared drives/Buffalo Graphics/clients/H&H Concrete/volumetric_mixer/PRINT/H&H_CC_door_text_KELLER_qty_2.pdf', '/Volumes/GoogleDrive/Shared drives/Buffalo Graphics/clients/H&H Concrete/volumetric_mixer/PRINT/H&H_CC_door_text_AUSTIN_qty_2.pdf', '/Volumes/GoogleDrive/Shared drives/Buffalo Graphics/clients/H&H Concrete/volumetric_mixer/PRINT/H&H_CC_concrete_delivered.pdf', '/Volumes/GoogleDrive/Shared drives/Buffalo Graphics/clients/H&H Concrete/volumetric_mixer/PRINT/H&H_CC_warning.pdf', '/Volumes/GoogleDrive/Shared drives/Buffalo Graphics/clients/H&H Concrete/volumetric_mixer/PRINT/H&H_CC_USDOT_AUSTIN_qty_2.pdf', '/Volumes/GoogleDrive/Shared drives/Buffalo Graphics/clients/H&H Concrete/volumetric_mixer/PRINT/H&H_CC_US&TX_DOT_KELLER_qty_2.pdf', '/Volumes/GoogleDrive/Shared drives/Buffalo Graphics/clients/H&H Concrete/volumetric_mixer/PRINT/log.txt']\n",
      "jobs:  []\n",
      "jobs:  []\n",
      "jobs:  []\n",
      "jobs:  []\n",
      "{}\n"
     ]
    }
   ],
   "source": [
    "dirs = os.listdir(path)\n",
    "pretty_print (dirs)\n",
    "\n",
    "obj = {}\n",
    "for dir in dirs: \n",
    "    i=0\n",
    "    folder = os.path.join(path, dir)\n",
    "    jobs= glob.glob(folder+'/**/*/PRINT/*', recursive=True)\n",
    "    print('jobs: ', jobs)\n",
    "    # for job in jobs: \n",
    "    conf = {\n",
    "        'full_path': os.path.join(path, dir), \n",
    "        }\n",
    "        \n",
    "\n",
    "# for key,val in obj.items(): \n",
    "#     list = obj[key]\n",
    "#     print(list)\n",
    "    # obj[key].jobs = list\n",
    "pretty_print(obj)\n"
   ]
  },
  {
   "cell_type": "code",
   "execution_count": null,
   "metadata": {},
   "outputs": [],
   "source": [
    "\n",
    "def recursive_obj(args):\n",
    "    obj = {}\n",
    "    list = args\n",
    "    i = 0\n",
    "    print(args)\n",
    "    for arr in list:\n",
    "        if len(arr)>0:\n",
    "            obj[arr[i]] = recursive_obj(arr)\n",
    "\n",
    "\n",
    "conf = recursive_obj(paths)\n",
    "pretty_print(paths)\n"
   ]
  },
  {
   "cell_type": "code",
   "execution_count": null,
   "metadata": {},
   "outputs": [
    {
     "name": "stdout",
     "output_type": "stream",
     "text": [
      "{\n",
      "    \"Charley's Concrete\": [\n",
      "        \"Charley's Concrete\"\n",
      "    ],\n",
      "    \"H&H Concrete\": [\n",
      "        \"H&H Concrete\"\n",
      "    ],\n",
      "    \"H&S Excavation\": [\n",
      "        \"H&S Excavation\"\n",
      "    ],\n",
      "    \"Numo RMFG\": [\n",
      "        \"Numo RMFG\"\n",
      "    ],\n",
      "    \"Pegasus Link Constructors\": [\n",
      "        \"Pegasus Link Constructors\"\n",
      "    ],\n",
      "    \"Preferred Materials\": [\n",
      "        \"Preferred Materials\"\n",
      "    ],\n",
      "    \"Raptor Concrete\": [\n",
      "        \"Raptor Concrete\"\n",
      "    ],\n",
      "    \"Yamaha 3\": [\n",
      "        \"Yamaha 3\"\n",
      "    ]\n",
      "}\n"
     ]
    }
   ],
   "source": [
    "\n",
    "def obj_maker(args):\n",
    "    i = 0\n",
    "    for item in args:\n",
    "        obj[item] = item.split('/')\n",
    "        i = i+1\n",
    "\n",
    "    return obj\n",
    "\n",
    "\n",
    "obj = obj_maker(paths)\n",
    "\n",
    "pretty_print(obj)\n"
   ]
  }
 ],
 "metadata": {
  "kernelspec": {
   "display_name": "Python 3.9.4 64-bit",
   "name": "python394jvsc74a57bd0aee8b7b246df8f9039afb4144a1f6fd8d2ca17a180786b69acc140d282b71a49"
  },
  "language_info": {
   "codemirror_mode": {
    "name": "ipython",
    "version": 3
   },
   "file_extension": ".py",
   "mimetype": "text/x-python",
   "name": "python",
   "nbconvert_exporter": "python",
   "pygments_lexer": "ipython3",
   "version": "3.9.4"
  },
  "metadata": {
   "interpreter": {
    "hash": "aee8b7b246df8f9039afb4144a1f6fd8d2ca17a180786b69acc140d282b71a49"
   }
  },
  "orig_nbformat": 3
 },
 "nbformat": 4,
 "nbformat_minor": 2
}