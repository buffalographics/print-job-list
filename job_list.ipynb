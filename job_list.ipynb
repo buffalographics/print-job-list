{
 "cells": [
  {
   "cell_type": "markdown",
   "metadata": {},
   "source": [
    "## Helpers"
   ]
  },
  {
   "cell_type": "code",
   "execution_count": 37,
   "metadata": {},
   "outputs": [
    {
     "name": "stdout",
     "output_type": "stream",
     "text": [
      "{\n",
      "    \"one\": 1,\n",
      "    \"three\": {\n",
      "        \"1\": 1,\n",
      "        \"2\": 2,\n",
      "        \"3\": 3\n",
      "    },\n",
      "    \"two\": [\n",
      "        1,\n",
      "        2\n",
      "    ]\n",
      "}\n"
     ]
    }
   ],
   "source": [
    "import json\n",
    "\n",
    "def pretty_print(arg):\n",
    "    print(json.dumps(arg, indent=4, sort_keys=True))\n",
    "    \n",
    "pretty_print({\n",
    "    'one':1,\n",
    "    'two': [1,2],\n",
    "    'three':{'1': 1,'2':2,'3':3}\n",
    "})\n"
   ]
  },
  {
   "cell_type": "code",
   "execution_count": 38,
   "metadata": {},
   "outputs": [],
   "source": [
    "import os\n",
    "\n",
    "def convert_bytes(num):\n",
    "    \"\"\"\n",
    "    this function will convert bytes to MB.... GB... etc\n",
    "    \"\"\"\n",
    "    for x in ['bytes', 'KB', 'MB', 'GB', 'TB']:\n",
    "        if num < 1024.0:\n",
    "            return \"%3.1f %s\" % (num, x)\n",
    "        num /= 1024.0"
   ]
  },
  {
   "cell_type": "code",
   "execution_count": 39,
   "metadata": {},
   "outputs": [
    {
     "name": "stdout",
     "output_type": "stream",
     "text": [
      "30.8 KB\n"
     ]
    }
   ],
   "source": [
    "def file_size(file_path):\n",
    "    \"\"\"\n",
    "    this function will return the file size\n",
    "    \"\"\"\n",
    "    if os.path.isfile(file_path):\n",
    "        file_info = os.stat(file_path)\n",
    "        return convert_bytes(file_info.st_size)\n",
    "\n",
    "\n",
    "# Lets check the file size of MS Paint exe\n",
    "# or you can use any file path\n",
    "file_path = 'job_list.ipynb'\n",
    "print (file_size(file_path))\n"
   ]
  },
  {
   "cell_type": "markdown",
   "metadata": {},
   "source": [
    "## Client Folder Path"
   ]
  },
  {
   "cell_type": "code",
   "execution_count": 40,
   "metadata": {},
   "outputs": [],
   "source": [
    "# path = \"/users/glweems/Desktop/clients\"\n",
    "path = \"/Volumes/GoogleDrive/Shared drives/Buffalo Graphics/clients\"\n"
   ]
  },
  {
   "cell_type": "code",
   "execution_count": 224,
   "metadata": {},
   "outputs": [],
   "source": [
    "import os\n",
    "from glob import glob\n",
    "import pdfrw\n",
    "from pdfrw import PdfReader\n",
    "\n",
    "def builder(path):\n",
    "    paths = os.listdir(path)\n",
    "    obj = {}\n",
    "    for item in paths:\n",
    "        i = 0\n",
    "        jobs = {}\n",
    "        dir = os.path.join(path, item)\n",
    "        _jobs = glob(dir+'*/**/*/PRINT', recursive=True)\n",
    "        default = glob(dir+'/PRINT/*.pdf', recursive=True)\n",
    "        if len(default) > 0:\n",
    "             for file in default: \n",
    "                media_box = PdfReader(file).pages[0].MediaBox\n",
    "                file_obj = {\n",
    "                    'full_path': file,\n",
    "                    'file_name': file.split('/').pop(),\n",
    "                    'width': round(float(media_box[2])/72, 2),\n",
    "                    'height': round(float(media_box[3])/72, 2),\n",
    "                    'size': file_size(file)\n",
    "                }\n",
    "\n",
    "                qty = file_obj['file_name'].replace('.pdf','').split('qty_')\n",
    "                try:\n",
    "                    qty = int(qty[1])\n",
    "                except IndexError:\n",
    "                    qty = 1\n",
    "                    \n",
    "                file_obj['qty'] = qty\n",
    "                    \n",
    "                # print(int(qty)\n",
    "                files[file_obj['file_name']] = file_obj\n",
    "                jobs['.'] = {\n",
    "                    'full_path': job_full_path,\n",
    "                    'files': files\n",
    "                }\n",
    "        # print()\n",
    "        # try: \n",
    "        #     print(jobs[0])\n",
    "        # except: \n",
    "        \n",
    "        # print(_jobs)\n",
    "        for job in _jobs:\n",
    "            job_full_path = job\n",
    "            job = job.replace(dir+'/', '').replace('/PRINT', '')\n",
    "            files = {}\n",
    "\n",
    "            for file in glob(job_full_path+'/*.pdf'):\n",
    "                media_box = PdfReader(file).pages[0].MediaBox\n",
    "                file_obj = {\n",
    "                    'full_path': file,\n",
    "                    'file_name': file.split('/').pop(),\n",
    "                    'width': round(float(media_box[2])/72, 2),\n",
    "                    'height': round(float(media_box[3])/72, 2),\n",
    "                    'size': file_size(file)\n",
    "                }\n",
    "\n",
    "                qty = file_obj['file_name'].replace('.pdf','').split('qty_')\n",
    "                try:\n",
    "                    qty = int(qty[1])\n",
    "                except IndexError:\n",
    "                    qty = 1\n",
    "                    \n",
    "                file_obj['qty'] = qty\n",
    "                    \n",
    "                # print(int(qty)\n",
    "                files[file_obj['file_name']] = file_obj\n",
    "\n",
    "            jobs[job] = {\n",
    "                'full_path': job_full_path,\n",
    "                'files': files\n",
    "            }\n",
    "\n",
    "        obj[item] = {\n",
    "            'full_path': dir,\n",
    "            'jobs': jobs\n",
    "\n",
    "        }\n",
    "    return obj\n",
    "\n",
    "\n",
    "clients = builder(path)\n"
   ]
  },
  {
   "cell_type": "code",
   "execution_count": 233,
   "metadata": {},
   "outputs": [],
   "source": [
    "data = []\n",
    "\n",
    "\n",
    "for client in clients:\n",
    "    client_obj = clients[client]\n",
    "    \n",
    "    for job in client_obj['jobs']:\n",
    "        job_obj = client_obj['jobs'][job]\n",
    "        \n",
    "        for file in job_obj['files']:\n",
    "            file_obj = job_obj['files'][file]\n",
    "            \n",
    "            \n",
    "            rowobj = {\n",
    "                'client': client,\n",
    "                'project': ('', job)[job != '.'],\n",
    "                'file_name': file,\n",
    "                'file_size': file_obj['size'],\n",
    "                'file_path': file_obj['full_path'],\n",
    "                'height': file_obj['height'],\n",
    "                'width': file_obj['width'],\n",
    "                # 'sqft': \n",
    "                'qty': file_obj['qty'],\n",
    "                'material': '',\n",
    "            }\n",
    "            data.append(rowobj)"
   ]
  },
  {
   "cell_type": "code",
   "execution_count": 232,
   "metadata": {},
   "outputs": [],
   "source": [
    "import pandas as pd\n",
    "\n",
    "df = pd.DataFrame(data)\n",
    "df.to_csv('myfile.csv')"
   ]
  },
  {
   "cell_type": "markdown",
   "metadata": {},
   "source": [
    "# DB"
   ]
  },
  {
   "cell_type": "code",
   "execution_count": 151,
   "metadata": {},
   "outputs": [],
   "source": [
    "database = r\"buffalographics.db\"\n"
   ]
  },
  {
   "cell_type": "code",
   "execution_count": 152,
   "metadata": {},
   "outputs": [
    {
     "name": "stdout",
     "output_type": "stream",
     "text": [
      "2.6.0\n"
     ]
    }
   ],
   "source": [
    "import sqlite3\n",
    "from sqlite3 import Error\n",
    "\n",
    "\n",
    "def create_connection(database):\n",
    "    \"\"\" create a database connection to a SQLite database \"\"\"\n",
    "    conn = None\n",
    "    try:\n",
    "        conn = sqlite3.connect(database)\n",
    "        print(sqlite3.version)\n",
    "    except Error as e:\n",
    "        print(e)\n",
    "    finally:\n",
    "        if conn:\n",
    "            conn.close()\n",
    "\n",
    "\n",
    "if __name__ == '__main__':\n",
    "    create_connection(database)\n"
   ]
  },
  {
   "cell_type": "code",
   "execution_count": 159,
   "metadata": {},
   "outputs": [],
   "source": [
    "sql_create_tasks_table = \"\"\"CREATE TABLE IF NOT EXISTS tasks (\n",
    "                                    id integer PRIMARY KEY,\n",
    "                                    name text NOT NULL,\n",
    "                                    priority integer,\n",
    "                                    status_id integer NOT NULL,\n",
    "                                    project_id integer NOT NULL,\n",
    "                                    begin_date text NOT NULL,\n",
    "                                    end_date text NOT NULL,\n",
    "                                    FOREIGN KEY (project_id) REFERENCES clients (id)\n",
    "                                );\"\"\"\n",
    "\n",
    "def create_table(conn, create_table_sql):\n",
    "    \"\"\" create a table from the create_table_sql statement\n",
    "    :param conn: Connection object\n",
    "    :param create_table_sql: a CREATE TABLE statement\n",
    "    :return:\n",
    "    \"\"\"\n",
    "    try:\n",
    "        c = conn.cursor()\n",
    "        c.execute(create_table_sql)\n",
    "    except Error as e:\n",
    "        print(e)\n"
   ]
  },
  {
   "cell_type": "code",
   "execution_count": 154,
   "metadata": {},
   "outputs": [],
   "source": [
    "def create_client(conn, project):\n",
    "    \"\"\"\n",
    "    Create a new project into the projects table\n",
    "    :param conn:\n",
    "    :param project:\n",
    "    :return: project id\n",
    "    \"\"\"\n",
    "    sql = ''' INSERT INTO clients(name)\n",
    "              VALUES(?,?,?) '''\n",
    "    cur = conn.cursor()\n",
    "    cur.execute(sql, project)\n",
    "    conn.commit()\n",
    "    return cur.lastrowid\n"
   ]
  },
  {
   "cell_type": "code",
   "execution_count": 155,
   "metadata": {},
   "outputs": [],
   "source": [
    "def create_task(conn, task):\n",
    "    \"\"\"\n",
    "    Create a new task\n",
    "    :param conn:\n",
    "    :param task:\n",
    "    :return:\n",
    "    \"\"\"\n",
    "\n",
    "    sql = ''' INSERT INTO tasks(name,priority,status_id,project_id,begin_date,end_date)\n",
    "              VALUES(?,?,?,?,?,?) '''\n",
    "    cur = conn.cursor()\n",
    "    cur.execute(sql, task)\n",
    "    conn.commit()\n",
    "\n",
    "    return cur.lastrowid\n"
   ]
  },
  {
   "cell_type": "code",
   "execution_count": 161,
   "metadata": {},
   "outputs": [
    {
     "name": "stdout",
     "output_type": "stream",
     "text": [
      "2.6.0\n",
      "Error! cannot create the database connection.\n"
     ]
    },
    {
     "ename": "AttributeError",
     "evalue": "__enter__",
     "output_type": "error",
     "traceback": [
      "\u001b[0;31m---------------------------------------------------------------------------\u001b[0m",
      "\u001b[0;31mAttributeError\u001b[0m                            Traceback (most recent call last)",
      "\u001b[0;32m<ipython-input-161-042176dd3980>\u001b[0m in \u001b[0;36m<module>\u001b[0;34m\u001b[0m\n\u001b[1;32m     37\u001b[0m \u001b[0;34m\u001b[0m\u001b[0m\n\u001b[1;32m     38\u001b[0m \u001b[0;32mif\u001b[0m \u001b[0m__name__\u001b[0m \u001b[0;34m==\u001b[0m \u001b[0;34m'__main__'\u001b[0m\u001b[0;34m:\u001b[0m\u001b[0;34m\u001b[0m\u001b[0;34m\u001b[0m\u001b[0m\n\u001b[0;32m---> 39\u001b[0;31m     \u001b[0mmain\u001b[0m\u001b[0;34m(\u001b[0m\u001b[0;34m)\u001b[0m\u001b[0;34m\u001b[0m\u001b[0;34m\u001b[0m\u001b[0m\n\u001b[0m",
      "\u001b[0;32m<ipython-input-161-042176dd3980>\u001b[0m in \u001b[0;36mmain\u001b[0;34m()\u001b[0m\n\u001b[1;32m     20\u001b[0m     \u001b[0;32melse\u001b[0m\u001b[0;34m:\u001b[0m\u001b[0;34m\u001b[0m\u001b[0;34m\u001b[0m\u001b[0m\n\u001b[1;32m     21\u001b[0m         \u001b[0mprint\u001b[0m\u001b[0;34m(\u001b[0m\u001b[0;34m\"Error! cannot create the database connection.\"\u001b[0m\u001b[0;34m)\u001b[0m\u001b[0;34m\u001b[0m\u001b[0;34m\u001b[0m\u001b[0m\n\u001b[0;32m---> 22\u001b[0;31m     \u001b[0;32mwith\u001b[0m \u001b[0mconn\u001b[0m\u001b[0;34m:\u001b[0m\u001b[0;34m\u001b[0m\u001b[0;34m\u001b[0m\u001b[0m\n\u001b[0m\u001b[1;32m     23\u001b[0m         \u001b[0;31m# create a new project\u001b[0m\u001b[0;34m\u001b[0m\u001b[0;34m\u001b[0m\u001b[0;34m\u001b[0m\u001b[0m\n\u001b[1;32m     24\u001b[0m         \u001b[0mproject\u001b[0m \u001b[0;34m=\u001b[0m \u001b[0;34m(\u001b[0m\u001b[0;34m'Cool App with SQLite & Python'\u001b[0m\u001b[0;34m)\u001b[0m\u001b[0;34m\u001b[0m\u001b[0;34m\u001b[0m\u001b[0m\n",
      "\u001b[0;31mAttributeError\u001b[0m: __enter__"
     ]
    }
   ],
   "source": [
    "import sqlite3\n",
    "from sqlite3 import Error\n",
    "\n",
    "\n",
    "sql_create_clients_table = \"\"\" CREATE TABLE IF NOT EXISTS clients (\n",
    "                                        id integer PRIMARY KEY,\n",
    "                                        name text NOT NULL\n",
    "                                    ); \"\"\"\n",
    "\n",
    "def main():\n",
    "\n",
    "    # create a database connection\n",
    "    conn = create_connection(database)\n",
    "    if conn is not None:\n",
    "        # create projects table\n",
    "        create_table(conn, sql_create_clients_table)\n",
    "\n",
    "        # create tasks table\n",
    "        create_table(conn, sql_create_tasks_table)\n",
    "    else:\n",
    "        print(\"Error! cannot create the database connection.\")\n",
    "    with conn:\n",
    "        # create a new project\n",
    "        project = ('Cool App with SQLite & Python')\n",
    "        project_id = create_project(conn, project)\n",
    "\n",
    "        # tasks\n",
    "        task_1 = ('Analyze the requirements of the app', 1,\n",
    "                  1, project_id, '2015-01-01', '2015-01-02')\n",
    "        task_2 = ('Confirm with user about the top requirements',\n",
    "                  1, 1, project_id, '2015-01-03', '2015-01-05')\n",
    "\n",
    "        # create tasks\n",
    "        create_task(conn, task_1)\n",
    "        create_task(conn, task_2)\n",
    "\n",
    "\n",
    "if __name__ == '__main__':\n",
    "    main()\n"
   ]
  },
  {
   "cell_type": "code",
   "execution_count": null,
   "metadata": {},
   "outputs": [],
   "source": []
  }
 ],
 "metadata": {
  "kernelspec": {
   "display_name": "Python 3.9.4 64-bit",
   "name": "python394jvsc74a57bd0aee8b7b246df8f9039afb4144a1f6fd8d2ca17a180786b69acc140d282b71a49"
  },
  "language_info": {
   "codemirror_mode": {
    "name": "ipython",
    "version": 3
   },
   "file_extension": ".py",
   "mimetype": "text/x-python",
   "name": "python",
   "nbconvert_exporter": "python",
   "pygments_lexer": "ipython3",
   "version": "3.9.4"
  },
  "metadata": {
   "interpreter": {
    "hash": "aee8b7b246df8f9039afb4144a1f6fd8d2ca17a180786b69acc140d282b71a49"
   }
  },
  "orig_nbformat": 3
 },
 "nbformat": 4,
 "nbformat_minor": 2
}