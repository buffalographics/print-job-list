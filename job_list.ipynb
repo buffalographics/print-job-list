{
 "cells": [
  {
   "cell_type": "markdown",
   "metadata": {},
   "source": [
    "## Helpers"
   ]
  },
  {
   "cell_type": "code",
   "execution_count": 37,
   "metadata": {},
   "outputs": [
    {
     "name": "stdout",
     "output_type": "stream",
     "text": [
      "{\n",
      "    \"one\": 1,\n",
      "    \"three\": {\n",
      "        \"1\": 1,\n",
      "        \"2\": 2,\n",
      "        \"3\": 3\n",
      "    },\n",
      "    \"two\": [\n",
      "        1,\n",
      "        2\n",
      "    ]\n",
      "}\n"
     ]
    }
   ],
   "source": [
    "import json\n",
    "\n",
    "def pretty_print(arg):\n",
    "    print(json.dumps(arg, indent=4, sort_keys=True))\n",
    "    \n",
    "pretty_print({\n",
    "    'one':1,\n",
    "    'two': [1,2],\n",
    "    'three':{'1': 1,'2':2,'3':3}\n",
    "})\n"
   ]
  },
  {
   "cell_type": "code",
   "execution_count": 38,
   "metadata": {},
   "outputs": [],
   "source": [
    "import os\n",
    "\n",
    "def convert_bytes(num):\n",
    "    \"\"\"\n",
    "    this function will convert bytes to MB.... GB... etc\n",
    "    \"\"\"\n",
    "    for x in ['bytes', 'KB', 'MB', 'GB', 'TB']:\n",
    "        if num < 1024.0:\n",
    "            return \"%3.1f %s\" % (num, x)\n",
    "        num /= 1024.0"
   ]
  },
  {
   "cell_type": "code",
   "execution_count": 39,
   "metadata": {},
   "outputs": [
    {
     "name": "stdout",
     "output_type": "stream",
     "text": [
      "30.8 KB\n"
     ]
    }
   ],
   "source": [
    "def file_size(file_path):\n",
    "    \"\"\"\n",
    "    this function will return the file size\n",
    "    \"\"\"\n",
    "    if os.path.isfile(file_path):\n",
    "        file_info = os.stat(file_path)\n",
    "        return convert_bytes(file_info.st_size)\n",
    "\n",
    "\n",
    "# Lets check the file size of MS Paint exe\n",
    "# or you can use any file path\n",
    "file_path = 'job_list.ipynb'\n",
    "print (file_size(file_path))\n"
   ]
  },
  {
   "cell_type": "markdown",
   "metadata": {},
   "source": [
    "## Client Folder Path"
   ]
  },
  {
   "cell_type": "code",
   "execution_count": 40,
   "metadata": {},
   "outputs": [],
   "source": [
    "# path = \"/users/glweems/Desktop/clients\"\n",
    "path = \"/Volumes/GoogleDrive/Shared drives/Buffalo Graphics/clients\"\n"
   ]
  },
  {
   "cell_type": "code",
   "execution_count": 49,
   "metadata": {},
   "outputs": [],
   "source": [
    "import os\n",
    "from glob import glob\n",
    "import pdfrw\n",
    "from pdfrw import PdfReader\n",
    "\n",
    "def builder(path):\n",
    "    paths = os.listdir(path)\n",
    "    obj = {}\n",
    "    for item in paths:\n",
    "        i = 0\n",
    "        jobs = {}\n",
    "        dir = os.path.join(path, item)\n",
    "        _jobs = glob(dir+'/**/*/PRINT', recursive=True)\n",
    "\n",
    "        for job in _jobs:\n",
    "            job_full_path = job\n",
    "            job = job.replace(dir+'/', '').replace('/PRINT', '')\n",
    "            files = {}\n",
    "\n",
    "            for file in glob(job_full_path+'/*.pdf'):\n",
    "                # file_name = file.split('/').pop()\n",
    "                media_box = PdfReader(file).pages[0].MediaBox\n",
    "                # width = round(float(media_box[2])/72, 2)\n",
    "                # height = round(float(media_box[3])/72, 2)\n",
    "                # size = file_size(job_full_path)\n",
    "                # height = media_box[3]/72\n",
    "                file_obj = {\n",
    "                    'full_path': file,\n",
    "                    'file_name': file.split('/').pop(),\n",
    "                    'width': round(float(media_box[2])/72, 2),\n",
    "                    'height': round(float(media_box[3])/72, 2),\n",
    "                    'size': file_size(file)\n",
    "                }\n",
    "\n",
    "                files[file_obj['file_name']] = file_obj\n",
    "\n",
    "            jobs[job] = {\n",
    "                'full_path': job_full_path,\n",
    "                'files': files\n",
    "            }\n",
    "\n",
    "        obj[item] = {\n",
    "            'full_path': dir,\n",
    "            'jobs': jobs\n",
    "\n",
    "        }\n",
    "    return obj\n",
    "\n",
    "\n",
    "clients = builder(path)\n"
   ]
  },
  {
   "cell_type": "code",
   "execution_count": 57,
   "metadata": {},
   "outputs": [
    {
     "name": "stdout",
     "output_type": "stream",
     "text": [
      "[{'client': \"Charley's Concrete\", 'project': 'mixer', 'file_name': 'usdot_number.pdf', 'file_size': '189.1 KB', 'file_path': \"/Volumes/GoogleDrive/Shared drives/Buffalo Graphics/clients/Charley's Concrete/mixer/PRINT/usdot_number.pdf\", 'qty': '', 'material': ''}, {'client': \"Charley's Concrete\", 'project': 'mixer', 'file_name': 'mixer_door_cut_files.pdf', 'file_size': '8.9 MB', 'file_path': \"/Volumes/GoogleDrive/Shared drives/Buffalo Graphics/clients/Charley's Concrete/mixer/PRINT/mixer_door_cut_files.pdf\", 'qty': '', 'material': ''}, {'client': \"Charley's Concrete\", 'project': 'mixer', 'file_name': 'hood_stripes_cut_files.pdf', 'file_size': '8.2 MB', 'file_path': \"/Volumes/GoogleDrive/Shared drives/Buffalo Graphics/clients/Charley's Concrete/mixer/PRINT/hood_stripes_cut_files.pdf\", 'qty': '', 'material': ''}, {'client': \"Charley's Concrete\", 'project': 'mixer', 'file_name': 'drum_logo_blue.pdf', 'file_size': '444.6 KB', 'file_path': \"/Volumes/GoogleDrive/Shared drives/Buffalo Graphics/clients/Charley's Concrete/mixer/PRINT/drum_logo_blue.pdf\", 'qty': '', 'material': ''}, {'client': \"Charley's Concrete\", 'project': 'mixer', 'file_name': 'drum_logo_white_concrete.pdf', 'file_size': '332.0 KB', 'file_path': \"/Volumes/GoogleDrive/Shared drives/Buffalo Graphics/clients/Charley's Concrete/mixer/PRINT/drum_logo_white_concrete.pdf\", 'qty': '', 'material': ''}, {'client': \"Charley's Concrete\", 'project': 'mixer', 'file_name': 'drum_logo_red_concrete.pdf', 'file_size': '329.3 KB', 'file_path': \"/Volumes/GoogleDrive/Shared drives/Buffalo Graphics/clients/Charley's Concrete/mixer/PRINT/drum_logo_red_concrete.pdf\", 'qty': '', 'material': ''}, {'client': \"Charley's Concrete\", 'project': 'tractor', 'file_name': 'charleys_cc_mixer_drivers_white_43x13in.pdf', 'file_size': '3.0 MB', 'file_path': \"/Volumes/GoogleDrive/Shared drives/Buffalo Graphics/clients/Charley's Concrete/tractor/PRINT/charleys_cc_mixer_drivers_white_43x13in.pdf\", 'qty': '', 'material': ''}, {'client': \"Charley's Concrete\", 'project': 'tractor', 'file_name': 'charleys_cc_mixer_pass_white_43x13in.pdf', 'file_size': '3.0 MB', 'file_path': \"/Volumes/GoogleDrive/Shared drives/Buffalo Graphics/clients/Charley's Concrete/tractor/PRINT/charleys_cc_mixer_pass_white_43x13in.pdf\", 'qty': '', 'material': ''}, {'client': \"Charley's Concrete\", 'project': 'tractor', 'file_name': 'charleys_cc_mixer_drivers_red_41x10in.pdf', 'file_size': '3.0 MB', 'file_path': \"/Volumes/GoogleDrive/Shared drives/Buffalo Graphics/clients/Charley's Concrete/tractor/PRINT/charleys_cc_mixer_drivers_red_41x10in.pdf\", 'qty': '', 'material': ''}, {'client': \"Charley's Concrete\", 'project': 'tractor', 'file_name': 'charleys_cc_mixer_pass_red_41x10in.pdf', 'file_size': '3.0 MB', 'file_path': \"/Volumes/GoogleDrive/Shared drives/Buffalo Graphics/clients/Charley's Concrete/tractor/PRINT/charleys_cc_mixer_pass_red_41x10in.pdf\", 'qty': '', 'material': ''}, {'client': \"Charley's Concrete\", 'project': 'tractor', 'file_name': 'charleys_cc_tractor_door_20x20in.pdf', 'file_size': '8.8 MB', 'file_path': \"/Volumes/GoogleDrive/Shared drives/Buffalo Graphics/clients/Charley's Concrete/tractor/PRINT/charleys_cc_tractor_door_20x20in.pdf\", 'qty': '', 'material': ''}, {'client': \"Charley's Concrete\", 'project': 'tractor', 'file_name': 'charleys_cc_tractor_door_white_20x20in.pdf', 'file_size': '577.6 KB', 'file_path': \"/Volumes/GoogleDrive/Shared drives/Buffalo Graphics/clients/Charley's Concrete/tractor/PRINT/charleys_cc_tractor_door_white_20x20in.pdf\", 'qty': '', 'material': ''}, {'client': \"Charley's Concrete\", 'project': 'tractor', 'file_name': 'charleys_cc_tractor_door_blue_19x17in.pdf', 'file_size': '8.7 MB', 'file_path': \"/Volumes/GoogleDrive/Shared drives/Buffalo Graphics/clients/Charley's Concrete/tractor/PRINT/charleys_cc_tractor_door_blue_19x17in.pdf\", 'qty': '', 'material': ''}, {'client': \"Charley's Concrete\", 'project': 'tractor', 'file_name': 'charleys_cc_tractor_door_red_19x10in.pdf', 'file_size': '466.0 KB', 'file_path': \"/Volumes/GoogleDrive/Shared drives/Buffalo Graphics/clients/Charley's Concrete/tractor/PRINT/charleys_cc_tractor_door_red_19x10in.pdf\", 'qty': '', 'material': ''}, {'client': \"Charley's Concrete\", 'project': 'tractor', 'file_name': 'usdot_number.pdf', 'file_size': '188.6 KB', 'file_path': \"/Volumes/GoogleDrive/Shared drives/Buffalo Graphics/clients/Charley's Concrete/tractor/PRINT/usdot_number.pdf\", 'qty': '', 'material': ''}, {'client': \"Charley's Concrete\", 'project': 'tractor', 'file_name': 'charleys_cc_tractor_door_blue_19x17in (1).pdf', 'file_size': '52.3 KB', 'file_path': \"/Volumes/GoogleDrive/Shared drives/Buffalo Graphics/clients/Charley's Concrete/tractor/PRINT/charleys_cc_tractor_door_blue_19x17in (1).pdf\", 'qty': '', 'material': ''}, {'client': 'Numo RMFG', 'project': 'saftey_stickers/kit_1', 'file_name': 'KIT_1_INSTRUCTION_2.pdf', 'file_size': '152.0 KB', 'file_path': '/Volumes/GoogleDrive/Shared drives/Buffalo Graphics/clients/Numo RMFG/saftey_stickers/kit_1/PRINT/KIT_1_INSTRUCTION_2.pdf', 'qty': '', 'material': ''}, {'client': 'Numo RMFG', 'project': 'saftey_stickers/kit_1', 'file_name': 'KIT_1_CAUTION_1.pdf', 'file_size': '619.2 KB', 'file_path': '/Volumes/GoogleDrive/Shared drives/Buffalo Graphics/clients/Numo RMFG/saftey_stickers/kit_1/PRINT/KIT_1_CAUTION_1.pdf', 'qty': '', 'material': ''}, {'client': 'Numo RMFG', 'project': 'saftey_stickers/kit_1', 'file_name': 'KIT_1_CAUTION_2.pdf', 'file_size': '147.2 KB', 'file_path': '/Volumes/GoogleDrive/Shared drives/Buffalo Graphics/clients/Numo RMFG/saftey_stickers/kit_1/PRINT/KIT_1_CAUTION_2.pdf', 'qty': '', 'material': ''}, {'client': 'Numo RMFG', 'project': 'saftey_stickers/kit_1', 'file_name': 'KIT_1_DANGER_2.pdf', 'file_size': '2.0 MB', 'file_path': '/Volumes/GoogleDrive/Shared drives/Buffalo Graphics/clients/Numo RMFG/saftey_stickers/kit_1/PRINT/KIT_1_DANGER_2.pdf', 'qty': '', 'material': ''}, {'client': 'Numo RMFG', 'project': 'saftey_stickers/kit_1', 'file_name': 'KIT_1_DANGER.pdf', 'file_size': '170.1 KB', 'file_path': '/Volumes/GoogleDrive/Shared drives/Buffalo Graphics/clients/Numo RMFG/saftey_stickers/kit_1/PRINT/KIT_1_DANGER.pdf', 'qty': '', 'material': ''}, {'client': 'Numo RMFG', 'project': 'saftey_stickers/kit_3', 'file_name': 'numo_kit_3_danger.pdf', 'file_size': '1.2 MB', 'file_path': '/Volumes/GoogleDrive/Shared drives/Buffalo Graphics/clients/Numo RMFG/saftey_stickers/kit_3/PRINT/numo_kit_3_danger.pdf', 'qty': '', 'material': ''}, {'client': 'Numo RMFG', 'project': 'saftey_stickers/kit_3', 'file_name': 'numo_kit_3_danger_2.pdf', 'file_size': '1.2 MB', 'file_path': '/Volumes/GoogleDrive/Shared drives/Buffalo Graphics/clients/Numo RMFG/saftey_stickers/kit_3/PRINT/numo_kit_3_danger_2.pdf', 'qty': '', 'material': ''}, {'client': 'Numo RMFG', 'project': 'saftey_stickers/kit_3', 'file_name': 'numo_kit_3_danger_3.pdf', 'file_size': '1.2 MB', 'file_path': '/Volumes/GoogleDrive/Shared drives/Buffalo Graphics/clients/Numo RMFG/saftey_stickers/kit_3/PRINT/numo_kit_3_danger_3.pdf', 'qty': '', 'material': ''}, {'client': 'Numo RMFG', 'project': 'saftey_stickers/kit_3', 'file_name': 'numo_kit_3_operators_instructions.pdf', 'file_size': '1.2 MB', 'file_path': '/Volumes/GoogleDrive/Shared drives/Buffalo Graphics/clients/Numo RMFG/saftey_stickers/kit_3/PRINT/numo_kit_3_operators_instructions.pdf', 'qty': '', 'material': ''}, {'client': 'Numo RMFG', 'project': 'saftey_stickers/kit_3', 'file_name': 'numo_kit_3_operators_instructions_2.pdf', 'file_size': '1.2 MB', 'file_path': '/Volumes/GoogleDrive/Shared drives/Buffalo Graphics/clients/Numo RMFG/saftey_stickers/kit_3/PRINT/numo_kit_3_operators_instructions_2.pdf', 'qty': '', 'material': ''}, {'client': 'Numo RMFG', 'project': 'saftey_stickers/kit_3', 'file_name': 'numo_kit_3_operators_instructions_3.pdf', 'file_size': '1.2 MB', 'file_path': '/Volumes/GoogleDrive/Shared drives/Buffalo Graphics/clients/Numo RMFG/saftey_stickers/kit_3/PRINT/numo_kit_3_operators_instructions_3.pdf', 'qty': '', 'material': ''}, {'client': 'Numo RMFG', 'project': 'saftey_stickers/kit_3', 'file_name': 'numo_kit_3_operators_instructions_4.pdf', 'file_size': '1.2 MB', 'file_path': '/Volumes/GoogleDrive/Shared drives/Buffalo Graphics/clients/Numo RMFG/saftey_stickers/kit_3/PRINT/numo_kit_3_operators_instructions_4.pdf', 'qty': '', 'material': ''}, {'client': 'Numo RMFG', 'project': 'saftey_stickers/kit_3', 'file_name': 'numo_kit_3_notice.pdf', 'file_size': '1.2 MB', 'file_path': '/Volumes/GoogleDrive/Shared drives/Buffalo Graphics/clients/Numo RMFG/saftey_stickers/kit_3/PRINT/numo_kit_3_notice.pdf', 'qty': '', 'material': ''}, {'client': 'Numo RMFG', 'project': 'saftey_stickers/kit_3', 'file_name': 'numo_kit_3_warning.pdf', 'file_size': '1.2 MB', 'file_path': '/Volumes/GoogleDrive/Shared drives/Buffalo Graphics/clients/Numo RMFG/saftey_stickers/kit_3/PRINT/numo_kit_3_warning.pdf', 'qty': '', 'material': ''}, {'client': 'Numo RMFG', 'project': 'saftey_stickers/kit_3', 'file_name': 'numo_kit_3_warning_2.pdf', 'file_size': '1.2 MB', 'file_path': '/Volumes/GoogleDrive/Shared drives/Buffalo Graphics/clients/Numo RMFG/saftey_stickers/kit_3/PRINT/numo_kit_3_warning_2.pdf', 'qty': '', 'material': ''}, {'client': 'Numo RMFG', 'project': 'saftey_stickers/kit_3', 'file_name': 'numo_kit_3_safety_notice.pdf', 'file_size': '1.2 MB', 'file_path': '/Volumes/GoogleDrive/Shared drives/Buffalo Graphics/clients/Numo RMFG/saftey_stickers/kit_3/PRINT/numo_kit_3_safety_notice.pdf', 'qty': '', 'material': ''}, {'client': 'Numo RMFG', 'project': 'saftey_stickers/kit_3', 'file_name': 'numo_kit_3_no_smoking.pdf', 'file_size': '1.2 MB', 'file_path': '/Volumes/GoogleDrive/Shared drives/Buffalo Graphics/clients/Numo RMFG/saftey_stickers/kit_3/PRINT/numo_kit_3_no_smoking.pdf', 'qty': '', 'material': ''}, {'client': 'H&H Concrete', 'project': 'volumetric_mixer', 'file_name': 'H&H_CC_concrete_on_demand_qty_2.pdf', 'file_size': '507.5 KB', 'file_path': '/Volumes/GoogleDrive/Shared drives/Buffalo Graphics/clients/H&H Concrete/volumetric_mixer/PRINT/H&H_CC_concrete_on_demand_qty_2.pdf', 'qty': '', 'material': ''}, {'client': 'H&H Concrete', 'project': 'volumetric_mixer', 'file_name': 'H&H_CC_phone_number_KELLER_qty_2.pdf', 'file_size': '498.2 KB', 'file_path': '/Volumes/GoogleDrive/Shared drives/Buffalo Graphics/clients/H&H Concrete/volumetric_mixer/PRINT/H&H_CC_phone_number_KELLER_qty_2.pdf', 'qty': '', 'material': ''}, {'client': 'H&H Concrete', 'project': 'volumetric_mixer', 'file_name': 'H&H_CC_phone_number_AUSTIN_qty_2.pdf', 'file_size': '500.4 KB', 'file_path': '/Volumes/GoogleDrive/Shared drives/Buffalo Graphics/clients/H&H Concrete/volumetric_mixer/PRINT/H&H_CC_phone_number_AUSTIN_qty_2.pdf', 'qty': '', 'material': ''}, {'client': 'H&H Concrete', 'project': 'volumetric_mixer', 'file_name': 'H&H_CC_dog_graphic_qty_7.pdf', 'file_size': '508.2 KB', 'file_path': '/Volumes/GoogleDrive/Shared drives/Buffalo Graphics/clients/H&H Concrete/volumetric_mixer/PRINT/H&H_CC_dog_graphic_qty_7.pdf', 'qty': '', 'material': ''}, {'client': 'H&H Concrete', 'project': 'volumetric_mixer', 'file_name': 'H&H_CC_door_text_KELLER_qty_2.pdf', 'file_size': '503.4 KB', 'file_path': '/Volumes/GoogleDrive/Shared drives/Buffalo Graphics/clients/H&H Concrete/volumetric_mixer/PRINT/H&H_CC_door_text_KELLER_qty_2.pdf', 'qty': '', 'material': ''}, {'client': 'H&H Concrete', 'project': 'volumetric_mixer', 'file_name': 'H&H_CC_door_text_AUSTIN_qty_2.pdf', 'file_size': '507.1 KB', 'file_path': '/Volumes/GoogleDrive/Shared drives/Buffalo Graphics/clients/H&H Concrete/volumetric_mixer/PRINT/H&H_CC_door_text_AUSTIN_qty_2.pdf', 'qty': '', 'material': ''}, {'client': 'H&H Concrete', 'project': 'volumetric_mixer', 'file_name': 'H&H_CC_concrete_delivered.pdf', 'file_size': '498.1 KB', 'file_path': '/Volumes/GoogleDrive/Shared drives/Buffalo Graphics/clients/H&H Concrete/volumetric_mixer/PRINT/H&H_CC_concrete_delivered.pdf', 'qty': '', 'material': ''}, {'client': 'H&H Concrete', 'project': 'volumetric_mixer', 'file_name': 'H&H_CC_warning.pdf', 'file_size': '495.1 KB', 'file_path': '/Volumes/GoogleDrive/Shared drives/Buffalo Graphics/clients/H&H Concrete/volumetric_mixer/PRINT/H&H_CC_warning.pdf', 'qty': '', 'material': ''}, {'client': 'H&H Concrete', 'project': 'volumetric_mixer', 'file_name': 'H&H_CC_USDOT_AUSTIN_qty_2.pdf', 'file_size': '495.5 KB', 'file_path': '/Volumes/GoogleDrive/Shared drives/Buffalo Graphics/clients/H&H Concrete/volumetric_mixer/PRINT/H&H_CC_USDOT_AUSTIN_qty_2.pdf', 'qty': '', 'material': ''}, {'client': 'H&H Concrete', 'project': 'volumetric_mixer', 'file_name': 'H&H_CC_US&TX_DOT_KELLER_qty_2.pdf', 'file_size': '500.9 KB', 'file_path': '/Volumes/GoogleDrive/Shared drives/Buffalo Graphics/clients/H&H Concrete/volumetric_mixer/PRINT/H&H_CC_US&TX_DOT_KELLER_qty_2.pdf', 'qty': '', 'material': ''}]\n"
     ]
    }
   ],
   "source": [
    "data = []\n",
    "\n",
    "\n",
    "for client in clients:\n",
    "    client_obj = clients[client]\n",
    "    \n",
    "    for job in client_obj['jobs']:\n",
    "        job_obj = client_obj['jobs'][job]\n",
    "        \n",
    "        for file in job_obj['files']:\n",
    "            file_obj = job_obj['files'][file]\n",
    "            \n",
    "            \n",
    "            rowobj = {\n",
    "                'client': client,\n",
    "                'project': job,\n",
    "                'file_name': file,\n",
    "                'file_size': file_obj['size'],\n",
    "                'file_path': file_obj['full_path'],\n",
    "                'height': file_obj['height'],\n",
    "                'width': file_obj['width'],\n",
    "                'qty': '',\n",
    "                'material': '',\n",
    "            }\n",
    "            data.append(rowobj)\n",
    "            \n",
    "print(data)\n"
   ]
  },
  {
   "cell_type": "code",
   "execution_count": null,
   "metadata": {},
   "outputs": [],
   "source": []
  },
  {
   "cell_type": "code",
   "execution_count": null,
   "metadata": {},
   "outputs": [],
   "source": []
  },
  {
   "cell_type": "code",
   "execution_count": null,
   "metadata": {},
   "outputs": [],
   "source": []
  },
  {
   "cell_type": "code",
   "execution_count": 4,
   "metadata": {},
   "outputs": [
    {
     "ename": "AttributeError",
     "evalue": "'str' object has no attribute 'keys'",
     "output_type": "error",
     "traceback": [
      "\u001b[0;31m---------------------------------------------------------------------------\u001b[0m",
      "\u001b[0;31mAttributeError\u001b[0m                            Traceback (most recent call last)",
      "\u001b[0;32m<ipython-input-4-e9a7bfa7faba>\u001b[0m in \u001b[0;36m<module>\u001b[0;34m\u001b[0m\n\u001b[1;32m      6\u001b[0m         \u001b[0mwriter\u001b[0m\u001b[0;34m.\u001b[0m\u001b[0mwriteheader\u001b[0m\u001b[0;34m(\u001b[0m\u001b[0;34m)\u001b[0m\u001b[0;34m\u001b[0m\u001b[0;34m\u001b[0m\u001b[0m\n\u001b[1;32m      7\u001b[0m         \u001b[0;32mfor\u001b[0m \u001b[0mitem\u001b[0m \u001b[0;32min\u001b[0m \u001b[0mdata\u001b[0m\u001b[0;34m:\u001b[0m\u001b[0;34m\u001b[0m\u001b[0;34m\u001b[0m\u001b[0m\n\u001b[0;32m----> 8\u001b[0;31m             \u001b[0mwriter\u001b[0m\u001b[0;34m.\u001b[0m\u001b[0mwriterow\u001b[0m\u001b[0;34m(\u001b[0m\u001b[0mitem\u001b[0m\u001b[0;34m)\u001b[0m\u001b[0;34m\u001b[0m\u001b[0;34m\u001b[0m\u001b[0m\n\u001b[0m\u001b[1;32m      9\u001b[0m \u001b[0;32mexcept\u001b[0m \u001b[0mIOError\u001b[0m\u001b[0;34m:\u001b[0m\u001b[0;34m\u001b[0m\u001b[0;34m\u001b[0m\u001b[0m\n\u001b[1;32m     10\u001b[0m     \u001b[0mprint\u001b[0m\u001b[0;34m(\u001b[0m\u001b[0;34m\"I/O error\"\u001b[0m\u001b[0;34m)\u001b[0m\u001b[0;34m\u001b[0m\u001b[0;34m\u001b[0m\u001b[0m\n",
      "\u001b[0;32m/usr/local/Cellar/python@3.9/3.9.4/Frameworks/Python.framework/Versions/3.9/lib/python3.9/csv.py\u001b[0m in \u001b[0;36mwriterow\u001b[0;34m(self, rowdict)\u001b[0m\n\u001b[1;32m    152\u001b[0m \u001b[0;34m\u001b[0m\u001b[0m\n\u001b[1;32m    153\u001b[0m     \u001b[0;32mdef\u001b[0m \u001b[0mwriterow\u001b[0m\u001b[0;34m(\u001b[0m\u001b[0mself\u001b[0m\u001b[0;34m,\u001b[0m \u001b[0mrowdict\u001b[0m\u001b[0;34m)\u001b[0m\u001b[0;34m:\u001b[0m\u001b[0;34m\u001b[0m\u001b[0;34m\u001b[0m\u001b[0m\n\u001b[0;32m--> 154\u001b[0;31m         \u001b[0;32mreturn\u001b[0m \u001b[0mself\u001b[0m\u001b[0;34m.\u001b[0m\u001b[0mwriter\u001b[0m\u001b[0;34m.\u001b[0m\u001b[0mwriterow\u001b[0m\u001b[0;34m(\u001b[0m\u001b[0mself\u001b[0m\u001b[0;34m.\u001b[0m\u001b[0m_dict_to_list\u001b[0m\u001b[0;34m(\u001b[0m\u001b[0mrowdict\u001b[0m\u001b[0;34m)\u001b[0m\u001b[0;34m)\u001b[0m\u001b[0;34m\u001b[0m\u001b[0;34m\u001b[0m\u001b[0m\n\u001b[0m\u001b[1;32m    155\u001b[0m \u001b[0;34m\u001b[0m\u001b[0m\n\u001b[1;32m    156\u001b[0m     \u001b[0;32mdef\u001b[0m \u001b[0mwriterows\u001b[0m\u001b[0;34m(\u001b[0m\u001b[0mself\u001b[0m\u001b[0;34m,\u001b[0m \u001b[0mrowdicts\u001b[0m\u001b[0;34m)\u001b[0m\u001b[0;34m:\u001b[0m\u001b[0;34m\u001b[0m\u001b[0;34m\u001b[0m\u001b[0m\n",
      "\u001b[0;32m/usr/local/Cellar/python@3.9/3.9.4/Frameworks/Python.framework/Versions/3.9/lib/python3.9/csv.py\u001b[0m in \u001b[0;36m_dict_to_list\u001b[0;34m(self, rowdict)\u001b[0m\n\u001b[1;32m    145\u001b[0m     \u001b[0;32mdef\u001b[0m \u001b[0m_dict_to_list\u001b[0m\u001b[0;34m(\u001b[0m\u001b[0mself\u001b[0m\u001b[0;34m,\u001b[0m \u001b[0mrowdict\u001b[0m\u001b[0;34m)\u001b[0m\u001b[0;34m:\u001b[0m\u001b[0;34m\u001b[0m\u001b[0;34m\u001b[0m\u001b[0m\n\u001b[1;32m    146\u001b[0m         \u001b[0;32mif\u001b[0m \u001b[0mself\u001b[0m\u001b[0;34m.\u001b[0m\u001b[0mextrasaction\u001b[0m \u001b[0;34m==\u001b[0m \u001b[0;34m\"raise\"\u001b[0m\u001b[0;34m:\u001b[0m\u001b[0;34m\u001b[0m\u001b[0;34m\u001b[0m\u001b[0m\n\u001b[0;32m--> 147\u001b[0;31m             \u001b[0mwrong_fields\u001b[0m \u001b[0;34m=\u001b[0m \u001b[0mrowdict\u001b[0m\u001b[0;34m.\u001b[0m\u001b[0mkeys\u001b[0m\u001b[0;34m(\u001b[0m\u001b[0;34m)\u001b[0m \u001b[0;34m-\u001b[0m \u001b[0mself\u001b[0m\u001b[0;34m.\u001b[0m\u001b[0mfieldnames\u001b[0m\u001b[0;34m\u001b[0m\u001b[0;34m\u001b[0m\u001b[0m\n\u001b[0m\u001b[1;32m    148\u001b[0m             \u001b[0;32mif\u001b[0m \u001b[0mwrong_fields\u001b[0m\u001b[0;34m:\u001b[0m\u001b[0;34m\u001b[0m\u001b[0;34m\u001b[0m\u001b[0m\n\u001b[1;32m    149\u001b[0m                 raise ValueError(\"dict contains fields not in fieldnames: \"\n",
      "\u001b[0;31mAttributeError\u001b[0m: 'str' object has no attribute 'keys'"
     ]
    }
   ],
   "source": [
    "import csv\n",
    "csv_file = \"test.csv\"\n",
    "try:\n",
    "    with open(csv_file, 'w') as csvfile:\n",
    "        writer = csv.DictWriter(csvfile, '.DS_Store')\n",
    "        writer.writeheader()\n",
    "        for item in data:\n",
    "            writer.writerow(item)\n",
    "except IOError:\n",
    "    print(\"I/O error\")\n"
   ]
  },
  {
   "cell_type": "code",
   "execution_count": null,
   "metadata": {},
   "outputs": [],
   "source": []
  },
  {
   "cell_type": "code",
   "execution_count": 39,
   "metadata": {},
   "outputs": [
    {
     "ename": "IndentationError",
     "evalue": "expected an indented block (<ipython-input-39-e9e349358f39>, line 13)",
     "output_type": "error",
     "traceback": [
      "\u001b[0;36m  File \u001b[0;32m\"<ipython-input-39-e9e349358f39>\"\u001b[0;36m, line \u001b[0;32m13\u001b[0m\n\u001b[0;31m    return reduce(nester, arr)\u001b[0m\n\u001b[0m    ^\u001b[0m\n\u001b[0;31mIndentationError\u001b[0m\u001b[0;31m:\u001b[0m expected an indented block\n"
     ]
    }
   ],
   "source": [
    "from functools import reduce\n",
    "\n",
    "\n",
    "def nester(arg, arg2):\n",
    "    print(arg, arg2)\n",
    "    return {[arg2]: ''}\n",
    "\n",
    "\n",
    "def path_tree(str):\n",
    "    arr = str.split('/')\n",
    "    arr = arr[::-1]\n",
    "    obj = {}\n",
    "    for item in arr:\n",
    "\n",
    "    return reduce(nester, arr)\n",
    "\n",
    "\n",
    "path_tree(\"one/two/three\")\n"
   ]
  },
  {
   "cell_type": "code",
   "execution_count": null,
   "metadata": {},
   "outputs": [
    {
     "name": "stdout",
     "output_type": "stream",
     "text": [
      "[\n",
      "    \"TAP Leasing\",\n",
      "    \"Charley's Concrete\",\n",
      "    \"Titan Ready Mix\",\n",
      "    \"Bell Concrete\",\n",
      "    \"Estrada Ready Mix Concrete\",\n",
      "    \"Numo RMFG\",\n",
      "    \"Raptor Concrete\",\n",
      "    \"C-CON Services\",\n",
      "    \"Yamaha 3\",\n",
      "    \"H&S Excavation\",\n",
      "    \"Second Chance Boxing\",\n",
      "    \"BMCR Concrete\",\n",
      "    \"Preferred Materials\",\n",
      "    \"H&H Concrete\",\n",
      "    \"Pegasus Link Constructors\",\n",
      "    \"Wildcatter Redi-Mix\",\n",
      "    \"The Hornet Stop\",\n",
      "    \"NeBo Trucking Inc\"\n",
      "]\n",
      "jobs:  []\n",
      "jobs:  [\"/Volumes/GoogleDrive/Shared drives/Buffalo Graphics/clients/Charley's Concrete/mixer/PRINT/usdot_number.pdf\", \"/Volumes/GoogleDrive/Shared drives/Buffalo Graphics/clients/Charley's Concrete/mixer/PRINT/hood_graphic\", \"/Volumes/GoogleDrive/Shared drives/Buffalo Graphics/clients/Charley's Concrete/mixer/PRINT/hopper_logo\", \"/Volumes/GoogleDrive/Shared drives/Buffalo Graphics/clients/Charley's Concrete/mixer/PRINT/drum_stripe\", \"/Volumes/GoogleDrive/Shared drives/Buffalo Graphics/clients/Charley's Concrete/mixer/PRINT/mixer_door_cut_files.pdf\", \"/Volumes/GoogleDrive/Shared drives/Buffalo Graphics/clients/Charley's Concrete/mixer/PRINT/hood_stripes_cut_files.pdf\", \"/Volumes/GoogleDrive/Shared drives/Buffalo Graphics/clients/Charley's Concrete/mixer/PRINT/drum_logo_blue.pdf\", \"/Volumes/GoogleDrive/Shared drives/Buffalo Graphics/clients/Charley's Concrete/mixer/PRINT/drum_logo_white_concrete.pdf\", \"/Volumes/GoogleDrive/Shared drives/Buffalo Graphics/clients/Charley's Concrete/mixer/PRINT/drum_logo_red_concrete.pdf\", \"/Volumes/GoogleDrive/Shared drives/Buffalo Graphics/clients/Charley's Concrete/tractor/PRINT/charleys_cc_mixer_drivers_white_43x13in.pdf\", \"/Volumes/GoogleDrive/Shared drives/Buffalo Graphics/clients/Charley's Concrete/tractor/PRINT/charleys_cc_mixer_pass_white_43x13in.pdf\", \"/Volumes/GoogleDrive/Shared drives/Buffalo Graphics/clients/Charley's Concrete/tractor/PRINT/charleys_cc_mixer_drivers_red_41x10in.pdf\", \"/Volumes/GoogleDrive/Shared drives/Buffalo Graphics/clients/Charley's Concrete/tractor/PRINT/charleys_cc_mixer_pass_red_41x10in.pdf\", \"/Volumes/GoogleDrive/Shared drives/Buffalo Graphics/clients/Charley's Concrete/tractor/PRINT/charleys_cc_tractor_door_20x20in.pdf\", \"/Volumes/GoogleDrive/Shared drives/Buffalo Graphics/clients/Charley's Concrete/tractor/PRINT/charleys_cc_tractor_door_white_20x20in.pdf\", \"/Volumes/GoogleDrive/Shared drives/Buffalo Graphics/clients/Charley's Concrete/tractor/PRINT/charleys_cc_tractor_door_blue_19x17in.pdf\", \"/Volumes/GoogleDrive/Shared drives/Buffalo Graphics/clients/Charley's Concrete/tractor/PRINT/charleys_cc_tractor_door_red_19x10in.pdf\", \"/Volumes/GoogleDrive/Shared drives/Buffalo Graphics/clients/Charley's Concrete/tractor/PRINT/usdot_number.pdf\", \"/Volumes/GoogleDrive/Shared drives/Buffalo Graphics/clients/Charley's Concrete/tractor/PRINT/charleys_cc_tractor_door_blue_19x17in (1).pdf\"]\n",
      "jobs:  []\n",
      "jobs:  []\n",
      "jobs:  []\n",
      "jobs:  ['/Volumes/GoogleDrive/Shared drives/Buffalo Graphics/clients/Numo RMFG/saftey_stickers/kit_1/PRINT/KIT_1_INSTRUCTION_2.pdf', '/Volumes/GoogleDrive/Shared drives/Buffalo Graphics/clients/Numo RMFG/saftey_stickers/kit_1/PRINT/KIT_1_CAUTION_1.pdf', '/Volumes/GoogleDrive/Shared drives/Buffalo Graphics/clients/Numo RMFG/saftey_stickers/kit_1/PRINT/KIT_1_CAUTION_2.pdf', '/Volumes/GoogleDrive/Shared drives/Buffalo Graphics/clients/Numo RMFG/saftey_stickers/kit_1/PRINT/KIT_1_DANGER_2.pdf', '/Volumes/GoogleDrive/Shared drives/Buffalo Graphics/clients/Numo RMFG/saftey_stickers/kit_1/PRINT/KIT_1_DANGER.pdf', '/Volumes/GoogleDrive/Shared drives/Buffalo Graphics/clients/Numo RMFG/saftey_stickers/kit_3/PRINT/numo_kit_3_danger.pdf', '/Volumes/GoogleDrive/Shared drives/Buffalo Graphics/clients/Numo RMFG/saftey_stickers/kit_3/PRINT/numo_kit_3_danger_2.pdf', '/Volumes/GoogleDrive/Shared drives/Buffalo Graphics/clients/Numo RMFG/saftey_stickers/kit_3/PRINT/numo_kit_3_danger_3.pdf', '/Volumes/GoogleDrive/Shared drives/Buffalo Graphics/clients/Numo RMFG/saftey_stickers/kit_3/PRINT/numo_kit_3_operators_instructions.pdf', '/Volumes/GoogleDrive/Shared drives/Buffalo Graphics/clients/Numo RMFG/saftey_stickers/kit_3/PRINT/numo_kit_3_operators_instructions_2.pdf', '/Volumes/GoogleDrive/Shared drives/Buffalo Graphics/clients/Numo RMFG/saftey_stickers/kit_3/PRINT/numo_kit_3_operators_instructions_3.pdf', '/Volumes/GoogleDrive/Shared drives/Buffalo Graphics/clients/Numo RMFG/saftey_stickers/kit_3/PRINT/numo_kit_3_operators_instructions_4.pdf', '/Volumes/GoogleDrive/Shared drives/Buffalo Graphics/clients/Numo RMFG/saftey_stickers/kit_3/PRINT/numo_kit_3_notice.pdf', '/Volumes/GoogleDrive/Shared drives/Buffalo Graphics/clients/Numo RMFG/saftey_stickers/kit_3/PRINT/numo_kit_3_warning.pdf', '/Volumes/GoogleDrive/Shared drives/Buffalo Graphics/clients/Numo RMFG/saftey_stickers/kit_3/PRINT/numo_kit_3_warning_2.pdf', '/Volumes/GoogleDrive/Shared drives/Buffalo Graphics/clients/Numo RMFG/saftey_stickers/kit_3/PRINT/numo_kit_3_safety_notice.pdf', '/Volumes/GoogleDrive/Shared drives/Buffalo Graphics/clients/Numo RMFG/saftey_stickers/kit_3/PRINT/numo_kit_3_no_smoking.pdf']\n",
      "jobs:  []\n",
      "jobs:  []\n",
      "jobs:  []\n",
      "jobs:  []\n",
      "jobs:  []\n",
      "jobs:  []\n",
      "jobs:  []\n",
      "jobs:  ['/Volumes/GoogleDrive/Shared drives/Buffalo Graphics/clients/H&H Concrete/volumetric_mixer/PRINT/H&H_CC_concrete_on_demand_qty_2.pdf', '/Volumes/GoogleDrive/Shared drives/Buffalo Graphics/clients/H&H Concrete/volumetric_mixer/PRINT/H&H_CC_phone_number_KELLER_qty_2.pdf', '/Volumes/GoogleDrive/Shared drives/Buffalo Graphics/clients/H&H Concrete/volumetric_mixer/PRINT/H&H_CC_phone_number_AUSTIN_qty_2.pdf', '/Volumes/GoogleDrive/Shared drives/Buffalo Graphics/clients/H&H Concrete/volumetric_mixer/PRINT/H&H_CC_dog_graphic_qty_7.pdf', '/Volumes/GoogleDrive/Shared drives/Buffalo Graphics/clients/H&H Concrete/volumetric_mixer/PRINT/H&H_CC_door_text_KELLER_qty_2.pdf', '/Volumes/GoogleDrive/Shared drives/Buffalo Graphics/clients/H&H Concrete/volumetric_mixer/PRINT/H&H_CC_door_text_AUSTIN_qty_2.pdf', '/Volumes/GoogleDrive/Shared drives/Buffalo Graphics/clients/H&H Concrete/volumetric_mixer/PRINT/H&H_CC_concrete_delivered.pdf', '/Volumes/GoogleDrive/Shared drives/Buffalo Graphics/clients/H&H Concrete/volumetric_mixer/PRINT/H&H_CC_warning.pdf', '/Volumes/GoogleDrive/Shared drives/Buffalo Graphics/clients/H&H Concrete/volumetric_mixer/PRINT/H&H_CC_USDOT_AUSTIN_qty_2.pdf', '/Volumes/GoogleDrive/Shared drives/Buffalo Graphics/clients/H&H Concrete/volumetric_mixer/PRINT/H&H_CC_US&TX_DOT_KELLER_qty_2.pdf', '/Volumes/GoogleDrive/Shared drives/Buffalo Graphics/clients/H&H Concrete/volumetric_mixer/PRINT/log.txt']\n",
      "jobs:  []\n",
      "jobs:  []\n",
      "jobs:  []\n",
      "jobs:  []\n",
      "{}\n"
     ]
    }
   ],
   "source": [
    "dirs = os.listdir(path)\n",
    "pretty_print(dirs)\n",
    "\n",
    "obj = {}\n",
    "for dir in dirs:\n",
    "    i = 0\n",
    "    folder = os.path.join(path, dir)\n",
    "    jobs = glob.glob(folder+'/**/*/PRINT/*', recursive=True)\n",
    "    print('jobs: ', jobs)\n",
    "    # for job in jobs:\n",
    "    conf = {\n",
    "        'full_path': os.path.join(path, dir),\n",
    "    }\n",
    "\n",
    "\n",
    "# for key,val in obj.items():\n",
    "#     list = obj[key]\n",
    "#     print(list)\n",
    "    # obj[key].jobs = list\n",
    "pretty_print(obj)\n"
   ]
  },
  {
   "cell_type": "code",
   "execution_count": null,
   "metadata": {},
   "outputs": [],
   "source": [
    "\n",
    "def recursive_obj(args):\n",
    "    obj = {}\n",
    "    list = args\n",
    "    i = 0\n",
    "    print(args)\n",
    "    for arr in list:\n",
    "        if len(arr) > 0:\n",
    "            obj[arr[i]] = recursive_obj(arr)\n",
    "\n",
    "\n",
    "conf = recursive_obj(paths)\n",
    "pretty_print(paths)\n"
   ]
  },
  {
   "cell_type": "code",
   "execution_count": null,
   "metadata": {},
   "outputs": [
    {
     "name": "stdout",
     "output_type": "stream",
     "text": [
      "{\n",
      "    \"Charley's Concrete\": [\n",
      "        \"Charley's Concrete\"\n",
      "    ],\n",
      "    \"H&H Concrete\": [\n",
      "        \"H&H Concrete\"\n",
      "    ],\n",
      "    \"H&S Excavation\": [\n",
      "        \"H&S Excavation\"\n",
      "    ],\n",
      "    \"Numo RMFG\": [\n",
      "        \"Numo RMFG\"\n",
      "    ],\n",
      "    \"Pegasus Link Constructors\": [\n",
      "        \"Pegasus Link Constructors\"\n",
      "    ],\n",
      "    \"Preferred Materials\": [\n",
      "        \"Preferred Materials\"\n",
      "    ],\n",
      "    \"Raptor Concrete\": [\n",
      "        \"Raptor Concrete\"\n",
      "    ],\n",
      "    \"Yamaha 3\": [\n",
      "        \"Yamaha 3\"\n",
      "    ]\n",
      "}\n"
     ]
    }
   ],
   "source": [
    "\n",
    "def obj_maker(args):\n",
    "    i = 0\n",
    "    for item in args:\n",
    "        obj[item] = item.split('/')\n",
    "        i = i+1\n",
    "\n",
    "    return obj\n",
    "\n",
    "\n",
    "obj = obj_maker(paths)\n",
    "\n",
    "pretty_print(obj)\n"
   ]
  }
 ],
 "metadata": {
  "kernelspec": {
   "display_name": "Python 3.9.4 64-bit",
   "name": "python394jvsc74a57bd0aee8b7b246df8f9039afb4144a1f6fd8d2ca17a180786b69acc140d282b71a49"
  },
  "language_info": {
   "codemirror_mode": {
    "name": "ipython",
    "version": 3
   },
   "file_extension": ".py",
   "mimetype": "text/x-python",
   "name": "python",
   "nbconvert_exporter": "python",
   "pygments_lexer": "ipython3",
   "version": "3.9.4"
  },
  "metadata": {
   "interpreter": {
    "hash": "aee8b7b246df8f9039afb4144a1f6fd8d2ca17a180786b69acc140d282b71a49"
   }
  },
  "orig_nbformat": 3
 },
 "nbformat": 4,
 "nbformat_minor": 2
}