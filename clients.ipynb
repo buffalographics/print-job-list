{
 "cells": [
  {
   "cell_type": "markdown",
   "metadata": {},
   "source": [
    "# PYTHON DB INTERACTION"
   ]
  },
  {
   "cell_type": "code",
   "execution_count": 2,
   "metadata": {},
   "outputs": [],
   "source": [
    "clients_dir = \"/Volumes/GoogleDrive/Shared drives/Buffalo Graphics/clients\"\n"
   ]
  },
  {
   "cell_type": "code",
   "execution_count": 10,
   "metadata": {},
   "outputs": [
    {
     "ename": "DuplicateKeyError",
     "evalue": "E11000 duplicate key error collection: buffalographics.clients index: _name dup key: { name: \"Bell Concrete\" }, full error: {'index': 0, 'code': 11000, 'keyPattern': {'name': 1}, 'keyValue': {'name': 'Bell Concrete'}, 'errmsg': 'E11000 duplicate key error collection: buffalographics.clients index: _name dup key: { name: \"Bell Concrete\" }'}",
     "output_type": "error",
     "traceback": [
      "\u001b[0;31m---------------------------------------------------------------------------\u001b[0m",
      "\u001b[0;31mDuplicateKeyError\u001b[0m                         Traceback (most recent call last)",
      "\u001b[0;32m<ipython-input-10-033fedc47486>\u001b[0m in \u001b[0;36m<module>\u001b[0;34m\u001b[0m\n\u001b[1;32m     28\u001b[0m             \u001b[0mprint\u001b[0m\u001b[0;34m(\u001b[0m\u001b[0me\u001b[0m\u001b[0;34m)\u001b[0m\u001b[0;34m\u001b[0m\u001b[0;34m\u001b[0m\u001b[0m\n\u001b[1;32m     29\u001b[0m \u001b[0;34m\u001b[0m\u001b[0m\n\u001b[0;32m---> 30\u001b[0;31m \u001b[0msync_clients_dir\u001b[0m\u001b[0;34m(\u001b[0m\u001b[0mclients_dir\u001b[0m\u001b[0;34m)\u001b[0m\u001b[0;34m\u001b[0m\u001b[0;34m\u001b[0m\u001b[0m\n\u001b[0m\u001b[1;32m     31\u001b[0m \u001b[0;34m\u001b[0m\u001b[0m\n\u001b[1;32m     32\u001b[0m \u001b[0;34m\u001b[0m\u001b[0m\n",
      "\u001b[0;32m<ipython-input-10-033fedc47486>\u001b[0m in \u001b[0;36msync_clients_dir\u001b[0;34m(dir)\u001b[0m\n\u001b[1;32m     23\u001b[0m                 }\n\u001b[1;32m     24\u001b[0m \u001b[0;34m\u001b[0m\u001b[0m\n\u001b[0;32m---> 25\u001b[0;31m             \u001b[0mdb\u001b[0m\u001b[0;34m.\u001b[0m\u001b[0minsert_one\u001b[0m\u001b[0;34m(\u001b[0m\u001b[0mclient_obj\u001b[0m\u001b[0;34m)\u001b[0m\u001b[0;34m.\u001b[0m\u001b[0minserted_id\u001b[0m\u001b[0;34m\u001b[0m\u001b[0;34m\u001b[0m\u001b[0m\n\u001b[0m\u001b[1;32m     26\u001b[0m \u001b[0;34m\u001b[0m\u001b[0m\n\u001b[1;32m     27\u001b[0m         \u001b[0;32mexcept\u001b[0m \u001b[0mValueError\u001b[0m \u001b[0;32mas\u001b[0m \u001b[0me\u001b[0m\u001b[0;34m:\u001b[0m\u001b[0;34m\u001b[0m\u001b[0;34m\u001b[0m\u001b[0m\n",
      "\u001b[0;32m/usr/local/lib/python3.9/site-packages/pymongo/collection.py\u001b[0m in \u001b[0;36minsert_one\u001b[0;34m(self, document, bypass_document_validation, session)\u001b[0m\n\u001b[1;32m    696\u001b[0m         \u001b[0mwrite_concern\u001b[0m \u001b[0;34m=\u001b[0m \u001b[0mself\u001b[0m\u001b[0;34m.\u001b[0m\u001b[0m_write_concern_for\u001b[0m\u001b[0;34m(\u001b[0m\u001b[0msession\u001b[0m\u001b[0;34m)\u001b[0m\u001b[0;34m\u001b[0m\u001b[0;34m\u001b[0m\u001b[0m\n\u001b[1;32m    697\u001b[0m         return InsertOneResult(\n\u001b[0;32m--> 698\u001b[0;31m             self._insert(document,\n\u001b[0m\u001b[1;32m    699\u001b[0m                          \u001b[0mwrite_concern\u001b[0m\u001b[0;34m=\u001b[0m\u001b[0mwrite_concern\u001b[0m\u001b[0;34m,\u001b[0m\u001b[0;34m\u001b[0m\u001b[0;34m\u001b[0m\u001b[0m\n\u001b[1;32m    700\u001b[0m                          \u001b[0mbypass_doc_val\u001b[0m\u001b[0;34m=\u001b[0m\u001b[0mbypass_document_validation\u001b[0m\u001b[0;34m,\u001b[0m\u001b[0;34m\u001b[0m\u001b[0;34m\u001b[0m\u001b[0m\n",
      "\u001b[0;32m/usr/local/lib/python3.9/site-packages/pymongo/collection.py\u001b[0m in \u001b[0;36m_insert\u001b[0;34m(self, docs, ordered, check_keys, manipulate, write_concern, op_id, bypass_doc_val, session)\u001b[0m\n\u001b[1;32m    611\u001b[0m         \u001b[0;34m\"\"\"Internal insert helper.\"\"\"\u001b[0m\u001b[0;34m\u001b[0m\u001b[0;34m\u001b[0m\u001b[0m\n\u001b[1;32m    612\u001b[0m         \u001b[0;32mif\u001b[0m \u001b[0misinstance\u001b[0m\u001b[0;34m(\u001b[0m\u001b[0mdocs\u001b[0m\u001b[0;34m,\u001b[0m \u001b[0mabc\u001b[0m\u001b[0;34m.\u001b[0m\u001b[0mMapping\u001b[0m\u001b[0;34m)\u001b[0m\u001b[0;34m:\u001b[0m\u001b[0;34m\u001b[0m\u001b[0;34m\u001b[0m\u001b[0m\n\u001b[0;32m--> 613\u001b[0;31m             return self._insert_one(\n\u001b[0m\u001b[1;32m    614\u001b[0m                 \u001b[0mdocs\u001b[0m\u001b[0;34m,\u001b[0m \u001b[0mordered\u001b[0m\u001b[0;34m,\u001b[0m \u001b[0mcheck_keys\u001b[0m\u001b[0;34m,\u001b[0m \u001b[0mmanipulate\u001b[0m\u001b[0;34m,\u001b[0m \u001b[0mwrite_concern\u001b[0m\u001b[0;34m,\u001b[0m \u001b[0mop_id\u001b[0m\u001b[0;34m,\u001b[0m\u001b[0;34m\u001b[0m\u001b[0;34m\u001b[0m\u001b[0m\n\u001b[1;32m    615\u001b[0m                 bypass_doc_val, session)\n",
      "\u001b[0;32m/usr/local/lib/python3.9/site-packages/pymongo/collection.py\u001b[0m in \u001b[0;36m_insert_one\u001b[0;34m(self, doc, ordered, check_keys, manipulate, write_concern, op_id, bypass_doc_val, session)\u001b[0m\n\u001b[1;32m    600\u001b[0m             \u001b[0m_check_write_command_response\u001b[0m\u001b[0;34m(\u001b[0m\u001b[0mresult\u001b[0m\u001b[0;34m)\u001b[0m\u001b[0;34m\u001b[0m\u001b[0;34m\u001b[0m\u001b[0m\n\u001b[1;32m    601\u001b[0m \u001b[0;34m\u001b[0m\u001b[0m\n\u001b[0;32m--> 602\u001b[0;31m         self.__database.client._retryable_write(\n\u001b[0m\u001b[1;32m    603\u001b[0m             acknowledged, _insert_command, session)\n\u001b[1;32m    604\u001b[0m \u001b[0;34m\u001b[0m\u001b[0m\n",
      "\u001b[0;32m/usr/local/lib/python3.9/site-packages/pymongo/mongo_client.py\u001b[0m in \u001b[0;36m_retryable_write\u001b[0;34m(self, retryable, func, session)\u001b[0m\n\u001b[1;32m   1496\u001b[0m         \u001b[0;34m\"\"\"Internal retryable write helper.\"\"\"\u001b[0m\u001b[0;34m\u001b[0m\u001b[0;34m\u001b[0m\u001b[0m\n\u001b[1;32m   1497\u001b[0m         \u001b[0;32mwith\u001b[0m \u001b[0mself\u001b[0m\u001b[0;34m.\u001b[0m\u001b[0m_tmp_session\u001b[0m\u001b[0;34m(\u001b[0m\u001b[0msession\u001b[0m\u001b[0;34m)\u001b[0m \u001b[0;32mas\u001b[0m \u001b[0ms\u001b[0m\u001b[0;34m:\u001b[0m\u001b[0;34m\u001b[0m\u001b[0;34m\u001b[0m\u001b[0m\n\u001b[0;32m-> 1498\u001b[0;31m             \u001b[0;32mreturn\u001b[0m \u001b[0mself\u001b[0m\u001b[0;34m.\u001b[0m\u001b[0m_retry_with_session\u001b[0m\u001b[0;34m(\u001b[0m\u001b[0mretryable\u001b[0m\u001b[0;34m,\u001b[0m \u001b[0mfunc\u001b[0m\u001b[0;34m,\u001b[0m \u001b[0ms\u001b[0m\u001b[0;34m,\u001b[0m \u001b[0;32mNone\u001b[0m\u001b[0;34m)\u001b[0m\u001b[0;34m\u001b[0m\u001b[0;34m\u001b[0m\u001b[0m\n\u001b[0m\u001b[1;32m   1499\u001b[0m \u001b[0;34m\u001b[0m\u001b[0m\n\u001b[1;32m   1500\u001b[0m     \u001b[0;32mdef\u001b[0m \u001b[0m_handle_getlasterror\u001b[0m\u001b[0;34m(\u001b[0m\u001b[0mself\u001b[0m\u001b[0;34m,\u001b[0m \u001b[0maddress\u001b[0m\u001b[0;34m,\u001b[0m \u001b[0merror_msg\u001b[0m\u001b[0;34m)\u001b[0m\u001b[0;34m:\u001b[0m\u001b[0;34m\u001b[0m\u001b[0;34m\u001b[0m\u001b[0m\n",
      "\u001b[0;32m/usr/local/lib/python3.9/site-packages/pymongo/mongo_client.py\u001b[0m in \u001b[0;36m_retry_with_session\u001b[0;34m(self, retryable, func, session, bulk)\u001b[0m\n\u001b[1;32m   1382\u001b[0m         retryable = (retryable and self.retry_writes\n\u001b[1;32m   1383\u001b[0m                      and session and not session.in_transaction)\n\u001b[0;32m-> 1384\u001b[0;31m         \u001b[0;32mreturn\u001b[0m \u001b[0mself\u001b[0m\u001b[0;34m.\u001b[0m\u001b[0m_retry_internal\u001b[0m\u001b[0;34m(\u001b[0m\u001b[0mretryable\u001b[0m\u001b[0;34m,\u001b[0m \u001b[0mfunc\u001b[0m\u001b[0;34m,\u001b[0m \u001b[0msession\u001b[0m\u001b[0;34m,\u001b[0m \u001b[0mbulk\u001b[0m\u001b[0;34m)\u001b[0m\u001b[0;34m\u001b[0m\u001b[0;34m\u001b[0m\u001b[0m\n\u001b[0m\u001b[1;32m   1385\u001b[0m \u001b[0;34m\u001b[0m\u001b[0m\n\u001b[1;32m   1386\u001b[0m     \u001b[0;32mdef\u001b[0m \u001b[0m_retry_internal\u001b[0m\u001b[0;34m(\u001b[0m\u001b[0mself\u001b[0m\u001b[0;34m,\u001b[0m \u001b[0mretryable\u001b[0m\u001b[0;34m,\u001b[0m \u001b[0mfunc\u001b[0m\u001b[0;34m,\u001b[0m \u001b[0msession\u001b[0m\u001b[0;34m,\u001b[0m \u001b[0mbulk\u001b[0m\u001b[0;34m)\u001b[0m\u001b[0;34m:\u001b[0m\u001b[0;34m\u001b[0m\u001b[0;34m\u001b[0m\u001b[0m\n",
      "\u001b[0;32m/usr/local/lib/python3.9/site-packages/pymongo/mongo_client.py\u001b[0m in \u001b[0;36m_retry_internal\u001b[0;34m(self, retryable, func, session, bulk)\u001b[0m\n\u001b[1;32m   1414\u001b[0m                             \u001b[0;32mraise\u001b[0m \u001b[0mlast_error\u001b[0m\u001b[0;34m\u001b[0m\u001b[0;34m\u001b[0m\u001b[0m\n\u001b[1;32m   1415\u001b[0m                         \u001b[0mretryable\u001b[0m \u001b[0;34m=\u001b[0m \u001b[0;32mFalse\u001b[0m\u001b[0;34m\u001b[0m\u001b[0;34m\u001b[0m\u001b[0m\n\u001b[0;32m-> 1416\u001b[0;31m                     \u001b[0;32mreturn\u001b[0m \u001b[0mfunc\u001b[0m\u001b[0;34m(\u001b[0m\u001b[0msession\u001b[0m\u001b[0;34m,\u001b[0m \u001b[0msock_info\u001b[0m\u001b[0;34m,\u001b[0m \u001b[0mretryable\u001b[0m\u001b[0;34m)\u001b[0m\u001b[0;34m\u001b[0m\u001b[0;34m\u001b[0m\u001b[0m\n\u001b[0m\u001b[1;32m   1417\u001b[0m             \u001b[0;32mexcept\u001b[0m \u001b[0mServerSelectionTimeoutError\u001b[0m\u001b[0;34m:\u001b[0m\u001b[0;34m\u001b[0m\u001b[0;34m\u001b[0m\u001b[0m\n\u001b[1;32m   1418\u001b[0m                 \u001b[0;32mif\u001b[0m \u001b[0mis_retrying\u001b[0m\u001b[0;34m(\u001b[0m\u001b[0;34m)\u001b[0m\u001b[0;34m:\u001b[0m\u001b[0;34m\u001b[0m\u001b[0;34m\u001b[0m\u001b[0m\n",
      "\u001b[0;32m/usr/local/lib/python3.9/site-packages/pymongo/collection.py\u001b[0m in \u001b[0;36m_insert_command\u001b[0;34m(session, sock_info, retryable_write)\u001b[0m\n\u001b[1;32m    598\u001b[0m                 retryable_write=retryable_write)\n\u001b[1;32m    599\u001b[0m \u001b[0;34m\u001b[0m\u001b[0m\n\u001b[0;32m--> 600\u001b[0;31m             \u001b[0m_check_write_command_response\u001b[0m\u001b[0;34m(\u001b[0m\u001b[0mresult\u001b[0m\u001b[0;34m)\u001b[0m\u001b[0;34m\u001b[0m\u001b[0;34m\u001b[0m\u001b[0m\n\u001b[0m\u001b[1;32m    601\u001b[0m \u001b[0;34m\u001b[0m\u001b[0m\n\u001b[1;32m    602\u001b[0m         self.__database.client._retryable_write(\n",
      "\u001b[0;32m/usr/local/lib/python3.9/site-packages/pymongo/helpers.py\u001b[0m in \u001b[0;36m_check_write_command_response\u001b[0;34m(result)\u001b[0m\n\u001b[1;32m    224\u001b[0m     \u001b[0mwrite_errors\u001b[0m \u001b[0;34m=\u001b[0m \u001b[0mresult\u001b[0m\u001b[0;34m.\u001b[0m\u001b[0mget\u001b[0m\u001b[0;34m(\u001b[0m\u001b[0;34m\"writeErrors\"\u001b[0m\u001b[0;34m)\u001b[0m\u001b[0;34m\u001b[0m\u001b[0;34m\u001b[0m\u001b[0m\n\u001b[1;32m    225\u001b[0m     \u001b[0;32mif\u001b[0m \u001b[0mwrite_errors\u001b[0m\u001b[0;34m:\u001b[0m\u001b[0;34m\u001b[0m\u001b[0;34m\u001b[0m\u001b[0m\n\u001b[0;32m--> 226\u001b[0;31m         \u001b[0m_raise_last_write_error\u001b[0m\u001b[0;34m(\u001b[0m\u001b[0mwrite_errors\u001b[0m\u001b[0;34m)\u001b[0m\u001b[0;34m\u001b[0m\u001b[0;34m\u001b[0m\u001b[0m\n\u001b[0m\u001b[1;32m    227\u001b[0m \u001b[0;34m\u001b[0m\u001b[0m\n\u001b[1;32m    228\u001b[0m     \u001b[0merror\u001b[0m \u001b[0;34m=\u001b[0m \u001b[0mresult\u001b[0m\u001b[0;34m.\u001b[0m\u001b[0mget\u001b[0m\u001b[0;34m(\u001b[0m\u001b[0;34m\"writeConcernError\"\u001b[0m\u001b[0;34m)\u001b[0m\u001b[0;34m\u001b[0m\u001b[0;34m\u001b[0m\u001b[0m\n",
      "\u001b[0;32m/usr/local/lib/python3.9/site-packages/pymongo/helpers.py\u001b[0m in \u001b[0;36m_raise_last_write_error\u001b[0;34m(write_errors)\u001b[0m\n\u001b[1;32m    205\u001b[0m     \u001b[0merror\u001b[0m \u001b[0;34m=\u001b[0m \u001b[0mwrite_errors\u001b[0m\u001b[0;34m[\u001b[0m\u001b[0;34m-\u001b[0m\u001b[0;36m1\u001b[0m\u001b[0;34m]\u001b[0m\u001b[0;34m\u001b[0m\u001b[0;34m\u001b[0m\u001b[0m\n\u001b[1;32m    206\u001b[0m     \u001b[0;32mif\u001b[0m \u001b[0merror\u001b[0m\u001b[0;34m.\u001b[0m\u001b[0mget\u001b[0m\u001b[0;34m(\u001b[0m\u001b[0;34m\"code\"\u001b[0m\u001b[0;34m)\u001b[0m \u001b[0;34m==\u001b[0m \u001b[0;36m11000\u001b[0m\u001b[0;34m:\u001b[0m\u001b[0;34m\u001b[0m\u001b[0;34m\u001b[0m\u001b[0m\n\u001b[0;32m--> 207\u001b[0;31m         \u001b[0;32mraise\u001b[0m \u001b[0mDuplicateKeyError\u001b[0m\u001b[0;34m(\u001b[0m\u001b[0merror\u001b[0m\u001b[0;34m.\u001b[0m\u001b[0mget\u001b[0m\u001b[0;34m(\u001b[0m\u001b[0;34m\"errmsg\"\u001b[0m\u001b[0;34m)\u001b[0m\u001b[0;34m,\u001b[0m \u001b[0;36m11000\u001b[0m\u001b[0;34m,\u001b[0m \u001b[0merror\u001b[0m\u001b[0;34m)\u001b[0m\u001b[0;34m\u001b[0m\u001b[0;34m\u001b[0m\u001b[0m\n\u001b[0m\u001b[1;32m    208\u001b[0m     \u001b[0;32mraise\u001b[0m \u001b[0mWriteError\u001b[0m\u001b[0;34m(\u001b[0m\u001b[0merror\u001b[0m\u001b[0;34m.\u001b[0m\u001b[0mget\u001b[0m\u001b[0;34m(\u001b[0m\u001b[0;34m\"errmsg\"\u001b[0m\u001b[0;34m)\u001b[0m\u001b[0;34m,\u001b[0m \u001b[0merror\u001b[0m\u001b[0;34m.\u001b[0m\u001b[0mget\u001b[0m\u001b[0;34m(\u001b[0m\u001b[0;34m\"code\"\u001b[0m\u001b[0;34m)\u001b[0m\u001b[0;34m,\u001b[0m \u001b[0merror\u001b[0m\u001b[0;34m)\u001b[0m\u001b[0;34m\u001b[0m\u001b[0;34m\u001b[0m\u001b[0m\n\u001b[1;32m    209\u001b[0m \u001b[0;34m\u001b[0m\u001b[0m\n",
      "\u001b[0;31mDuplicateKeyError\u001b[0m: E11000 duplicate key error collection: buffalographics.clients index: _name dup key: { name: \"Bell Concrete\" }, full error: {'index': 0, 'code': 11000, 'keyPattern': {'name': 1}, 'keyValue': {'name': 'Bell Concrete'}, 'errmsg': 'E11000 duplicate key error collection: buffalographics.clients index: _name dup key: { name: \"Bell Concrete\" }'}"
     ]
    }
   ],
   "source": [
    "from Mongo import Client\n",
    "import os\n",
    "\n",
    "\n",
    "def sync_clients_dir(dir: str) -> None:\n",
    "    # return early on invalid paths\n",
    "\n",
    "    if os.path.isdir(dir) is False:\n",
    "        print(f\"{dir}\\nis not a directory\")\n",
    "        return\n",
    "\n",
    "    folder_clients = os.listdir(dir)\n",
    "    db = Client().clients\n",
    "    \n",
    "    for folder_name in folder_clients:\n",
    "        \n",
    "        try:\n",
    "            \n",
    "            db.insert_one({\n",
    "                \"name\": folder_name,\n",
    "                \"file_path\": os.path.join(folder_name, dir),\n",
    "                \"files\": []\n",
    "            }).inserted_id\n",
    "\n",
    "        except ValueError as e:\n",
    "            print(e)\n",
    "            \n",
    "sync_clients_dir(clients_dir)            \n",
    "\n",
    "\n"
   ]
  },
  {
   "cell_type": "code",
   "execution_count": null,
   "metadata": {},
   "outputs": [],
   "source": [
    "import os\n",
    "from pprint import pprint\n",
    "\n",
    "def clients_from_dir(dir: str) -> None:\n",
    "    _clients = db[\"clients\"]\n",
    "    clients = []\n",
    "    \n",
    "    for c in _clients.find():\n",
    "        clients.append(c.get(\"name\"))\n",
    "        \n",
    "    inserted = []\n",
    "    \n",
    "    for client in os.listdir(dir):\n",
    "        \n",
    "        if _clients.find_one({\"name\": client}) is None:\n",
    "    \n",
    "            if client in clients:\n",
    "\n",
    "                client_obj = {\n",
    "                    \"name\": client,\n",
    "                    \"file_path\": os.path.join(clients_dir, client)\n",
    "                }\n",
    "\n",
    "                client_id = _clients.insert_one(client_obj).inserted_id\n",
    "                print(client_id)\n",
    "                if client_id is not None:\n",
    "                    inserted.append(\n",
    "                        ({\"_id\": client_id, \"name\": client, }))\n",
    "\n",
    "    pprint({\n",
    "        \"created\": f\"{len(inserted)} new clients\",\n",
    "        \"client_count\": _clients.count_documents({})\n",
    "    })\n",
    "\n",
    "\n",
    "clients_from_dir(clients_dir)\n"
   ]
  },
  {
   "cell_type": "code",
   "execution_count": null,
   "metadata": {},
   "outputs": [],
   "source": [
    "def format_job_name(job_full_path, dir_name):\n",
    "    name = job_full_path.replace(dir_name+'/', '')\n",
    "\n",
    "    if name == \"PRINT\":\n",
    "        name = \"default\"\n",
    "\n",
    "    name = name.replace(\"/PRINT\", '')\n",
    "    \n",
    "    return name"
   ]
  },
  {
   "cell_type": "code",
   "execution_count": null,
   "metadata": {},
   "outputs": [],
   "source": [
    "def job_file_doc(job):\n",
    "    print(job)\n",
    "    _file = db[\"files\"]\n",
    "    file_names = glob(f\"{job['dir']}/*.pdf\")\n",
    "    files = []\n",
    "    for file in file_names: \n",
    "        files.append(create_file_obj(job[\"client_id\"], job[\"_id\"],file))\n",
    "            \n",
    "    if len(files) != 0:\n",
    "        return _file.insert_many(files).inserted_ids"
   ]
  },
  {
   "cell_type": "code",
   "execution_count": null,
   "metadata": {},
   "outputs": [],
   "source": [
    "def create_job_doc(obj, job_full_path):\n",
    "    # obj = { \"name\": \"Company Name\" }\n",
    "    dir = os.path.join(clients_dir, obj['name'])\n",
    "\n",
    "\n",
    "    job = {\n",
    "        \"client_id\": obj[\"_id\"],\n",
    "        \"name\": format_job_name(job_full_path, dir),\n",
    "        \"dir\": job_full_path,\n",
    "    }\n",
    "\n",
    "    \n",
    "    return job\n"
   ]
  },
  {
   "cell_type": "code",
   "execution_count": null,
   "metadata": {},
   "outputs": [],
   "source": [
    "from Mongo import Client\n",
    "\n",
    "from glob import glob\n",
    "import os\n",
    "def link_jobs(q):\n",
    "    db = Client()['clients']\n",
    "    _clients = db[\"clients\"]\n",
    "    _jobs = db[\"jobs\"]\n",
    "\n",
    "    client = _clients.find_one(q)\n",
    "    dir_name = os.path.join(clients_dir, client['name'])\n",
    "\n",
    "    jobs = []\n",
    "\n",
    "    for job_full_path in glob(f\"{dir_name}/**/**/PRINT\", recursive=True):\n",
    "        job = create_job_doc(client, job_full_path)\n",
    "        jobs.append(_jobs.insert_one(job).inserted_id)\n",
    "\n",
    "    return _clients.update_one(q, {\"$set\": {'jobs': jobs}}).upserted_id\n",
    "\n",
    "\n"
   ]
  },
  {
   "cell_type": "code",
   "execution_count": null,
   "metadata": {},
   "outputs": [
    {
     "name": "stdout",
     "output_type": "stream",
     "text": [
      "{'_id': ObjectId('60a73232e7bd11f6121d32c3'), 'clients': [{'name': 'Phillips Sitework'}, {'name': 'NeBo Trucking Inc'}, {'name': 'The Hornet Stop'}, {'name': 'Wildcatter Redi-Mix'}, {'name': 'Pegasus Link Constructors'}, {'name': 'H&H Concrete'}, {'name': 'Preferred Materials'}, {'name': 'BMCR Concrete'}, {'name': 'Second Chance Boxing'}, {'name': 'H&S Excavation'}, {'name': 'Yamaha 3'}, {'name': 'C-CON Services'}, {'name': 'Raptor Concrete'}, {'name': 'Numo RMFG'}, {'name': 'Estrada Ready Mix Concrete'}, {'name': 'Bell Concrete'}, {'name': 'Titan Ready Mix'}, {'name': \"Charley's Concrete\"}, {'name': 'TAP Leasing'}]}\n",
      "{'_id': ObjectId('60a7335d7877a34d71d940f7'), 'name': 'Bell Concrete', 'file_path': '/Volumes/GoogleDrive/Shared drives/Buffalo Graphics/clients/Bell Concrete'}\n",
      "{'_id': ObjectId('60a7335d7877a34d71d940f8'), 'name': 'Titan Ready Mix', 'file_path': '/Volumes/GoogleDrive/Shared drives/Buffalo Graphics/clients/Titan Ready Mix'}\n",
      "{'_id': ObjectId('60a7335d7877a34d71d940f9'), 'name': 'TAP Leasing', 'file_path': '/Volumes/GoogleDrive/Shared drives/Buffalo Graphics/clients/TAP Leasing'}\n",
      "{'_id': ObjectId('60a7335d7877a34d71d940fa'), 'name': \"Charley's Concrete\", 'file_path': \"/Volumes/GoogleDrive/Shared drives/Buffalo Graphics/clients/Charley's Concrete\"}\n",
      "{'_id': ObjectId('60a7335d7877a34d71d940fb'), 'name': 'Raptor Concrete', 'file_path': '/Volumes/GoogleDrive/Shared drives/Buffalo Graphics/clients/Raptor Concrete'}\n",
      "{'_id': ObjectId('60a7335d7877a34d71d940fc'), 'name': 'Yamaha 3', 'file_path': '/Volumes/GoogleDrive/Shared drives/Buffalo Graphics/clients/Yamaha 3'}\n",
      "{'_id': ObjectId('60a7335d7877a34d71d940fd'), 'name': 'Second Chance Boxing', 'file_path': '/Volumes/GoogleDrive/Shared drives/Buffalo Graphics/clients/Second Chance Boxing'}\n",
      "{'_id': ObjectId('60a7335d7877a34d71d940fe'), 'name': 'Preferred Materials', 'file_path': '/Volumes/GoogleDrive/Shared drives/Buffalo Graphics/clients/Preferred Materials'}\n",
      "{'_id': ObjectId('60a7335d7877a34d71d940ff'), 'name': 'H&H Concrete', 'file_path': '/Volumes/GoogleDrive/Shared drives/Buffalo Graphics/clients/H&H Concrete'}\n",
      "{'_id': ObjectId('60a7335d7877a34d71d94100'), 'name': 'H&S Excavation', 'file_path': '/Volumes/GoogleDrive/Shared drives/Buffalo Graphics/clients/H&S Excavation'}\n",
      "{'_id': ObjectId('60a7335d7877a34d71d94101'), 'name': 'BMCR Concrete', 'file_path': '/Volumes/GoogleDrive/Shared drives/Buffalo Graphics/clients/BMCR Concrete'}\n",
      "{'_id': ObjectId('60a7335d7877a34d71d94102'), 'name': 'C-CON Services', 'file_path': '/Volumes/GoogleDrive/Shared drives/Buffalo Graphics/clients/C-CON Services'}\n",
      "{'_id': ObjectId('60a7335d7877a34d71d94103'), 'name': 'Estrada Ready Mix Concrete', 'file_path': '/Volumes/GoogleDrive/Shared drives/Buffalo Graphics/clients/Estrada Ready Mix Concrete'}\n",
      "{'_id': ObjectId('60a7335d7877a34d71d94104'), 'name': 'Numo RMFG', 'file_path': '/Volumes/GoogleDrive/Shared drives/Buffalo Graphics/clients/Numo RMFG'}\n",
      "{'_id': ObjectId('60a7335d7877a34d71d94105'), 'name': 'Wildcatter Redi-Mix', 'file_path': '/Volumes/GoogleDrive/Shared drives/Buffalo Graphics/clients/Wildcatter Redi-Mix'}\n",
      "{'_id': ObjectId('60a7335d7877a34d71d94106'), 'name': 'Pegasus Link Constructors', 'file_path': '/Volumes/GoogleDrive/Shared drives/Buffalo Graphics/clients/Pegasus Link Constructors'}\n",
      "{'_id': ObjectId('60a7335e7877a34d71d94107'), 'name': 'The Hornet Stop', 'file_path': '/Volumes/GoogleDrive/Shared drives/Buffalo Graphics/clients/The Hornet Stop'}\n",
      "{'_id': ObjectId('60a7335e7877a34d71d94108'), 'name': 'NeBo Trucking Inc', 'file_path': '/Volumes/GoogleDrive/Shared drives/Buffalo Graphics/clients/NeBo Trucking Inc'}\n",
      "{'_id': ObjectId('60a7335e7877a34d71d94109'), 'name': 'Phillips Sitework', 'file_path': '/Volumes/GoogleDrive/Shared drives/Buffalo Graphics/clients/Phillips Sitework'}\n",
      "{'_id': ObjectId('60a7335e7877a34d71d9410a'), 'name': 'Superior Ready Mix', 'file_path': '/Volumes/GoogleDrive/Shared drives/Buffalo Graphics/clients/Superior Ready Mix'}\n",
      "{'_id': ObjectId('60a7335e7877a34d71d9410b'), 'name': 'Nelson Brothers Ready Mix', 'file_path': '/Volumes/GoogleDrive/Shared drives/Buffalo Graphics/clients/Nelson Brothers Ready Mix'}\n",
      "{'_id': ObjectId('60a7335e7877a34d71d9410c'), 'name': 'Precision Gunite', 'file_path': '/Volumes/GoogleDrive/Shared drives/Buffalo Graphics/clients/Precision Gunite'}\n",
      "{'_id': ObjectId('60a7335e7877a34d71d9410d'), 'name': 'CustomVehicle Solutions', 'file_path': '/Volumes/GoogleDrive/Shared drives/Buffalo Graphics/clients/CustomVehicle Solutions'}\n",
      "{'_id': ObjectId('60a7335e7877a34d71d9410e'), 'name': 'Bell Concrete', 'file_path': '/Volumes/GoogleDrive/Shared drives/Buffalo Graphics/clients/Bell Concrete'}\n",
      "{'_id': ObjectId('60a7335e7877a34d71d9410f'), 'name': 'Titan Ready Mix', 'file_path': '/Volumes/GoogleDrive/Shared drives/Buffalo Graphics/clients/Titan Ready Mix'}\n",
      "{'_id': ObjectId('60a7335e7877a34d71d94110'), 'name': 'TAP Leasing', 'file_path': '/Volumes/GoogleDrive/Shared drives/Buffalo Graphics/clients/TAP Leasing'}\n",
      "{'_id': ObjectId('60a7335e7877a34d71d94111'), 'name': \"Charley's Concrete\", 'file_path': \"/Volumes/GoogleDrive/Shared drives/Buffalo Graphics/clients/Charley's Concrete\"}\n",
      "{'_id': ObjectId('60a7335e7877a34d71d94112'), 'name': 'Raptor Concrete', 'file_path': '/Volumes/GoogleDrive/Shared drives/Buffalo Graphics/clients/Raptor Concrete'}\n",
      "{'_id': ObjectId('60a7335e7877a34d71d94113'), 'name': 'Yamaha 3', 'file_path': '/Volumes/GoogleDrive/Shared drives/Buffalo Graphics/clients/Yamaha 3'}\n",
      "{'_id': ObjectId('60a7335e7877a34d71d94114'), 'name': 'Second Chance Boxing', 'file_path': '/Volumes/GoogleDrive/Shared drives/Buffalo Graphics/clients/Second Chance Boxing'}\n",
      "{'_id': ObjectId('60a7335e7877a34d71d94115'), 'name': 'Preferred Materials', 'file_path': '/Volumes/GoogleDrive/Shared drives/Buffalo Graphics/clients/Preferred Materials'}\n",
      "{'_id': ObjectId('60a7335e7877a34d71d94116'), 'name': 'H&H Concrete', 'file_path': '/Volumes/GoogleDrive/Shared drives/Buffalo Graphics/clients/H&H Concrete'}\n",
      "{'_id': ObjectId('60a7335e7877a34d71d94117'), 'name': 'H&S Excavation', 'file_path': '/Volumes/GoogleDrive/Shared drives/Buffalo Graphics/clients/H&S Excavation'}\n",
      "{'_id': ObjectId('60a7335e7877a34d71d94118'), 'name': 'BMCR Concrete', 'file_path': '/Volumes/GoogleDrive/Shared drives/Buffalo Graphics/clients/BMCR Concrete'}\n",
      "{'_id': ObjectId('60a7335e7877a34d71d94119'), 'name': 'C-CON Services', 'file_path': '/Volumes/GoogleDrive/Shared drives/Buffalo Graphics/clients/C-CON Services'}\n",
      "{'_id': ObjectId('60a7335e7877a34d71d9411a'), 'name': 'Estrada Ready Mix Concrete', 'file_path': '/Volumes/GoogleDrive/Shared drives/Buffalo Graphics/clients/Estrada Ready Mix Concrete'}\n",
      "{'_id': ObjectId('60a7335e7877a34d71d9411b'), 'name': 'Numo RMFG', 'file_path': '/Volumes/GoogleDrive/Shared drives/Buffalo Graphics/clients/Numo RMFG'}\n",
      "{'_id': ObjectId('60a7335e7877a34d71d9411c'), 'name': 'Wildcatter Redi-Mix', 'file_path': '/Volumes/GoogleDrive/Shared drives/Buffalo Graphics/clients/Wildcatter Redi-Mix'}\n",
      "{'_id': ObjectId('60a7335e7877a34d71d9411d'), 'name': 'Pegasus Link Constructors', 'file_path': '/Volumes/GoogleDrive/Shared drives/Buffalo Graphics/clients/Pegasus Link Constructors'}\n",
      "{'_id': ObjectId('60a7335f7877a34d71d9411e'), 'name': 'The Hornet Stop', 'file_path': '/Volumes/GoogleDrive/Shared drives/Buffalo Graphics/clients/The Hornet Stop'}\n",
      "{'_id': ObjectId('60a7335f7877a34d71d9411f'), 'name': 'NeBo Trucking Inc', 'file_path': '/Volumes/GoogleDrive/Shared drives/Buffalo Graphics/clients/NeBo Trucking Inc'}\n",
      "{'_id': ObjectId('60a7335f7877a34d71d94120'), 'name': 'Phillips Sitework', 'file_path': '/Volumes/GoogleDrive/Shared drives/Buffalo Graphics/clients/Phillips Sitework'}\n",
      "{'_id': ObjectId('60a7335f7877a34d71d94121'), 'name': 'Superior Ready Mix', 'file_path': '/Volumes/GoogleDrive/Shared drives/Buffalo Graphics/clients/Superior Ready Mix'}\n",
      "{'_id': ObjectId('60a7335f7877a34d71d94122'), 'name': 'Nelson Brothers Ready Mix', 'file_path': '/Volumes/GoogleDrive/Shared drives/Buffalo Graphics/clients/Nelson Brothers Ready Mix'}\n",
      "{'_id': ObjectId('60a7335f7877a34d71d94123'), 'name': 'Precision Gunite', 'file_path': '/Volumes/GoogleDrive/Shared drives/Buffalo Graphics/clients/Precision Gunite'}\n",
      "{'_id': ObjectId('60a7335f7877a34d71d94124'), 'name': 'CustomVehicle Solutions', 'file_path': '/Volumes/GoogleDrive/Shared drives/Buffalo Graphics/clients/CustomVehicle Solutions'}\n",
      "{'_id': ObjectId('60a80adb7877a34d71d94129'), 'name': 'LC Services', 'file_path': '/Volumes/GoogleDrive/Shared drives/Buffalo Graphics/clients/LC Services'}\n",
      "{'_id': ObjectId('60a80adc7877a34d71d9412a'), 'name': 'Bell Concrete', 'file_path': '/Volumes/GoogleDrive/Shared drives/Buffalo Graphics/clients/Bell Concrete'}\n",
      "{'_id': ObjectId('60a80adc7877a34d71d9412b'), 'name': 'Titan Ready Mix', 'file_path': '/Volumes/GoogleDrive/Shared drives/Buffalo Graphics/clients/Titan Ready Mix'}\n",
      "{'_id': ObjectId('60a80adc7877a34d71d9412c'), 'name': 'TAP Leasing', 'file_path': '/Volumes/GoogleDrive/Shared drives/Buffalo Graphics/clients/TAP Leasing'}\n",
      "{'_id': ObjectId('60a80adc7877a34d71d9412d'), 'name': \"Charley's Concrete\", 'file_path': \"/Volumes/GoogleDrive/Shared drives/Buffalo Graphics/clients/Charley's Concrete\"}\n",
      "{'_id': ObjectId('60a80adc7877a34d71d9412e'), 'name': 'Raptor Concrete', 'file_path': '/Volumes/GoogleDrive/Shared drives/Buffalo Graphics/clients/Raptor Concrete'}\n",
      "{'_id': ObjectId('60a80adc7877a34d71d9412f'), 'name': 'Yamaha 3', 'file_path': '/Volumes/GoogleDrive/Shared drives/Buffalo Graphics/clients/Yamaha 3'}\n",
      "{'_id': ObjectId('60a80adc7877a34d71d94130'), 'name': 'Second Chance Boxing', 'file_path': '/Volumes/GoogleDrive/Shared drives/Buffalo Graphics/clients/Second Chance Boxing'}\n",
      "{'_id': ObjectId('60a80adc7877a34d71d94131'), 'name': 'Preferred Materials', 'file_path': '/Volumes/GoogleDrive/Shared drives/Buffalo Graphics/clients/Preferred Materials'}\n",
      "{'_id': ObjectId('60a80adc7877a34d71d94132'), 'name': 'H&H Concrete', 'file_path': '/Volumes/GoogleDrive/Shared drives/Buffalo Graphics/clients/H&H Concrete'}\n",
      "{'_id': ObjectId('60a80add7877a34d71d94133'), 'name': 'H&S Excavation', 'file_path': '/Volumes/GoogleDrive/Shared drives/Buffalo Graphics/clients/H&S Excavation'}\n",
      "{'_id': ObjectId('60a80add7877a34d71d94134'), 'name': 'BMCR Concrete', 'file_path': '/Volumes/GoogleDrive/Shared drives/Buffalo Graphics/clients/BMCR Concrete'}\n",
      "{'_id': ObjectId('60a80add7877a34d71d94135'), 'name': 'C-CON Services', 'file_path': '/Volumes/GoogleDrive/Shared drives/Buffalo Graphics/clients/C-CON Services'}\n",
      "{'_id': ObjectId('60a80add7877a34d71d94136'), 'name': 'Estrada Ready Mix Concrete', 'file_path': '/Volumes/GoogleDrive/Shared drives/Buffalo Graphics/clients/Estrada Ready Mix Concrete'}\n",
      "{'_id': ObjectId('60a80add7877a34d71d94137'), 'name': 'Numo RMFG', 'file_path': '/Volumes/GoogleDrive/Shared drives/Buffalo Graphics/clients/Numo RMFG'}\n",
      "{'_id': ObjectId('60a80add7877a34d71d94138'), 'name': 'Wildcatter Redi-Mix', 'file_path': '/Volumes/GoogleDrive/Shared drives/Buffalo Graphics/clients/Wildcatter Redi-Mix'}\n",
      "{'_id': ObjectId('60a80add7877a34d71d94139'), 'name': 'Pegasus Link Constructors', 'file_path': '/Volumes/GoogleDrive/Shared drives/Buffalo Graphics/clients/Pegasus Link Constructors'}\n",
      "{'_id': ObjectId('60a80add7877a34d71d9413a'), 'name': 'The Hornet Stop', 'file_path': '/Volumes/GoogleDrive/Shared drives/Buffalo Graphics/clients/The Hornet Stop'}\n",
      "{'_id': ObjectId('60a80add7877a34d71d9413b'), 'name': 'NeBo Trucking Inc', 'file_path': '/Volumes/GoogleDrive/Shared drives/Buffalo Graphics/clients/NeBo Trucking Inc'}\n",
      "{'_id': ObjectId('60a80add7877a34d71d9413c'), 'name': 'Phillips Sitework', 'file_path': '/Volumes/GoogleDrive/Shared drives/Buffalo Graphics/clients/Phillips Sitework'}\n",
      "{'_id': ObjectId('60a80add7877a34d71d9413d'), 'name': 'Superior Ready Mix', 'file_path': '/Volumes/GoogleDrive/Shared drives/Buffalo Graphics/clients/Superior Ready Mix'}\n",
      "{'_id': ObjectId('60a80add7877a34d71d9413e'), 'name': 'Nelson Brothers Ready Mix', 'file_path': '/Volumes/GoogleDrive/Shared drives/Buffalo Graphics/clients/Nelson Brothers Ready Mix'}\n",
      "{'_id': ObjectId('60a80add7877a34d71d9413f'), 'name': 'Precision Gunite', 'file_path': '/Volumes/GoogleDrive/Shared drives/Buffalo Graphics/clients/Precision Gunite'}\n",
      "{'_id': ObjectId('60a80add7877a34d71d94140'), 'name': 'CustomVehicle Solutions', 'file_path': '/Volumes/GoogleDrive/Shared drives/Buffalo Graphics/clients/CustomVehicle Solutions'}\n",
      "{'_id': ObjectId('60a80add7877a34d71d94141'), 'name': 'LC Services', 'file_path': '/Volumes/GoogleDrive/Shared drives/Buffalo Graphics/clients/LC Services'}\n"
     ]
    }
   ],
   "source": [
    "clients = []\n",
    "\n",
    "for client in db[\"clients\"].find():\n",
    "    print(client)\n",
    "    for job in db[\"jobs\"].find({\"client_id\":client[\"_id\"]}):\n",
    "        if job.get(\"client_id\",None)!=None:\n",
    "            job_files = job_file_doc(job)\n",
    "            db[\"jobs\"].update_one(job,{\"$set\":{'files':job_files}})\n",
    "    # if 'name' in c:\n",
    "    #     print(link_jobs({'name': c['name']}))\n"
   ]
  },
  {
   "cell_type": "code",
   "execution_count": null,
   "metadata": {},
   "outputs": [],
   "source": []
  },
  {
   "cell_type": "markdown",
   "metadata": {},
   "source": [
    "## DELETE DB"
   ]
  },
  {
   "cell_type": "code",
   "execution_count": null,
   "metadata": {},
   "outputs": [
    {
     "data": {
      "text/plain": "<pymongo.results.DeleteResult at 0x118f03ec0>"
     },
     "execution_count": 30,
     "metadata": {},
     "output_type": "execute_result"
    }
   ],
   "source": [
    "from Mongo import Client\n",
    "import os\n",
    "\n",
    "db = Client()\n",
    "\n",
    "db[\"clients\"].delete_many({})\n",
    "db[\"jobs\"].delete_many({})\n",
    "db[\"files\"].delete_many({})\n"
   ]
  },
  {
   "cell_type": "code",
   "execution_count": null,
   "metadata": {},
   "outputs": [],
   "source": []
  },
  {
   "cell_type": "markdown",
   "metadata": {},
   "source": []
  }
 ],
 "metadata": {
  "kernelspec": {
   "display_name": "Python 3.9.5 64-bit",
   "name": "python395jvsc74a57bd0aee8b7b246df8f9039afb4144a1f6fd8d2ca17a180786b69acc140d282b71a49"
  },
  "language_info": {
   "codemirror_mode": {
    "name": "ipython",
    "version": 3
   },
   "file_extension": ".py",
   "mimetype": "text/x-python",
   "name": "python",
   "nbconvert_exporter": "python",
   "pygments_lexer": "ipython3",
   "version": "3.9.5"
  },
  "metadata": {
   "interpreter": {
    "hash": "aee8b7b246df8f9039afb4144a1f6fd8d2ca17a180786b69acc140d282b71a49"
   }
  },
  "orig_nbformat": 3
 },
 "nbformat": 4,
 "nbformat_minor": 2
}