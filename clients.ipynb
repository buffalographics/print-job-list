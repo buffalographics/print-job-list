{
 "cells": [
  {
   "cell_type": "markdown",
   "metadata": {},
   "source": [
    "# PYTHON DB INTERACTION"
   ]
  },
  {
   "cell_type": "code",
   "execution_count": 1,
   "metadata": {},
   "outputs": [],
   "source": [
    "clients_dir = \"/Volumes/GoogleDrive/Shared drives/Buffalo Graphics/clients\"\n"
   ]
  },
  {
   "cell_type": "code",
   "execution_count": null,
   "metadata": {},
   "outputs": [],
   "source": [
    "from Mongo import Client\n",
    "\n",
    "db = Client()"
   ]
  },
  {
   "cell_type": "code",
   "execution_count": 7,
   "metadata": {},
   "outputs": [
    {
     "name": "stdout",
     "output_type": "stream",
     "text": [
      "{'client_count': 96, 'created': '0 new clients'}\n"
     ]
    }
   ],
   "source": [
    "import os\n",
    "from pprint import pprint\n",
    "\n",
    "def clients_from_dir(dir: str) -> None:\n",
    "    _clients = db[\"clients\"]\n",
    "    clients = []\n",
    "    \n",
    "    for c in _clients.find():\n",
    "        clients.append(c.get(\"name\"))\n",
    "        \n",
    "    inserted = []\n",
    "    \n",
    "    for client in os.listdir(dir):\n",
    "        \n",
    "        if _clients.find_one({\"name\": client}) is None:\n",
    "    \n",
    "            if client in clients:\n",
    "\n",
    "                client_obj = {\n",
    "                    \"name\": client,\n",
    "                    \"file_path\": os.path.join(clients_dir, client)\n",
    "                }\n",
    "\n",
    "                client_id = _clients.insert_one(client_obj).inserted_id\n",
    "                print(client_id)\n",
    "                if client_id is not None:\n",
    "                    inserted.append(\n",
    "                        ({\"_id\": client_id, \"name\": client, }))\n",
    "\n",
    "    pprint({\n",
    "        \"created\": f\"{len(inserted)} new clients\",\n",
    "        \"client_count\": _clients.count_documents({})\n",
    "    })\n",
    "\n",
    "\n",
    "clients_from_dir(clients_dir)\n"
   ]
  },
  {
   "cell_type": "code",
   "execution_count": 14,
   "metadata": {},
   "outputs": [],
   "source": [
    "def format_job_name(job_full_path, dir_name):\n",
    "    name = job_full_path.replace(dir_name+'/', '')\n",
    "\n",
    "    if name == \"PRINT\":\n",
    "        name = \"default\"\n",
    "\n",
    "    name = name.replace(\"/PRINT\", '')\n",
    "    \n",
    "    return name"
   ]
  },
  {
   "cell_type": "code",
   "execution_count": 15,
   "metadata": {},
   "outputs": [],
   "source": [
    "def job_file_doc(job):\n",
    "    print(job)\n",
    "    _file = db[\"files\"]\n",
    "    file_names = glob(f\"{job['dir']}/*.pdf\")\n",
    "    files = []\n",
    "    for file in file_names: \n",
    "        files.append(create_file_obj(job[\"client_id\"], job[\"_id\"],file))\n",
    "            \n",
    "    if len(files) != 0:\n",
    "        return _file.insert_many(files).inserted_ids"
   ]
  },
  {
   "cell_type": "code",
   "execution_count": 16,
   "metadata": {},
   "outputs": [],
   "source": [
    "def create_job_doc(obj, job_full_path):\n",
    "    # obj = { \"name\": \"Company Name\" }\n",
    "    dir = os.path.join(clients_dir, obj['name'])\n",
    "\n",
    "\n",
    "    job = {\n",
    "        \"client_id\": obj[\"_id\"],\n",
    "        \"name\": format_job_name(job_full_path, dir),\n",
    "        \"dir\": job_full_path,\n",
    "    }\n",
    "\n",
    "    \n",
    "    return job\n"
   ]
  },
  {
   "cell_type": "code",
   "execution_count": 17,
   "metadata": {},
   "outputs": [],
   "source": [
    "def link_jobs(q):\n",
    "    _clients = db[\"clients\"]\n",
    "    _jobs = db[\"jobs\"]\n",
    "\n",
    "    client = _clients.find_one(q)\n",
    "    dir_name = os.path.join(clients_dir, client['name'])\n",
    "\n",
    "    jobs = []\n",
    "\n",
    "    for job_full_path in glob(f\"{dir_name}/**/**/PRINT\", recursive=True):\n",
    "        job = create_job_doc(client, job_full_path)\n",
    "        jobs.append(_jobs.insert_one(job).inserted_id)\n",
    "\n",
    "    return _clients.update_one(q, {\"$set\": {'jobs': jobs}}).upserted_id\n"
   ]
  },
  {
   "cell_type": "code",
   "execution_count": 18,
   "metadata": {},
   "outputs": [
    {
     "name": "stdout",
     "output_type": "stream",
     "text": [
      "{'_id': ObjectId('60a73232e7bd11f6121d32c3'), 'clients': [{'name': 'Phillips Sitework'}, {'name': 'NeBo Trucking Inc'}, {'name': 'The Hornet Stop'}, {'name': 'Wildcatter Redi-Mix'}, {'name': 'Pegasus Link Constructors'}, {'name': 'H&H Concrete'}, {'name': 'Preferred Materials'}, {'name': 'BMCR Concrete'}, {'name': 'Second Chance Boxing'}, {'name': 'H&S Excavation'}, {'name': 'Yamaha 3'}, {'name': 'C-CON Services'}, {'name': 'Raptor Concrete'}, {'name': 'Numo RMFG'}, {'name': 'Estrada Ready Mix Concrete'}, {'name': 'Bell Concrete'}, {'name': 'Titan Ready Mix'}, {'name': \"Charley's Concrete\"}, {'name': 'TAP Leasing'}]}\n",
      "{'_id': ObjectId('60a7335d7877a34d71d940f7'), 'name': 'Bell Concrete', 'file_path': '/Volumes/GoogleDrive/Shared drives/Buffalo Graphics/clients/Bell Concrete'}\n",
      "{'_id': ObjectId('60a7335d7877a34d71d940f8'), 'name': 'Titan Ready Mix', 'file_path': '/Volumes/GoogleDrive/Shared drives/Buffalo Graphics/clients/Titan Ready Mix'}\n",
      "{'_id': ObjectId('60a7335d7877a34d71d940f9'), 'name': 'TAP Leasing', 'file_path': '/Volumes/GoogleDrive/Shared drives/Buffalo Graphics/clients/TAP Leasing'}\n",
      "{'_id': ObjectId('60a7335d7877a34d71d940fa'), 'name': \"Charley's Concrete\", 'file_path': \"/Volumes/GoogleDrive/Shared drives/Buffalo Graphics/clients/Charley's Concrete\"}\n",
      "{'_id': ObjectId('60a7335d7877a34d71d940fb'), 'name': 'Raptor Concrete', 'file_path': '/Volumes/GoogleDrive/Shared drives/Buffalo Graphics/clients/Raptor Concrete'}\n",
      "{'_id': ObjectId('60a7335d7877a34d71d940fc'), 'name': 'Yamaha 3', 'file_path': '/Volumes/GoogleDrive/Shared drives/Buffalo Graphics/clients/Yamaha 3'}\n",
      "{'_id': ObjectId('60a7335d7877a34d71d940fd'), 'name': 'Second Chance Boxing', 'file_path': '/Volumes/GoogleDrive/Shared drives/Buffalo Graphics/clients/Second Chance Boxing'}\n",
      "{'_id': ObjectId('60a7335d7877a34d71d940fe'), 'name': 'Preferred Materials', 'file_path': '/Volumes/GoogleDrive/Shared drives/Buffalo Graphics/clients/Preferred Materials'}\n",
      "{'_id': ObjectId('60a7335d7877a34d71d940ff'), 'name': 'H&H Concrete', 'file_path': '/Volumes/GoogleDrive/Shared drives/Buffalo Graphics/clients/H&H Concrete'}\n",
      "{'_id': ObjectId('60a7335d7877a34d71d94100'), 'name': 'H&S Excavation', 'file_path': '/Volumes/GoogleDrive/Shared drives/Buffalo Graphics/clients/H&S Excavation'}\n",
      "{'_id': ObjectId('60a7335d7877a34d71d94101'), 'name': 'BMCR Concrete', 'file_path': '/Volumes/GoogleDrive/Shared drives/Buffalo Graphics/clients/BMCR Concrete'}\n",
      "{'_id': ObjectId('60a7335d7877a34d71d94102'), 'name': 'C-CON Services', 'file_path': '/Volumes/GoogleDrive/Shared drives/Buffalo Graphics/clients/C-CON Services'}\n",
      "{'_id': ObjectId('60a7335d7877a34d71d94103'), 'name': 'Estrada Ready Mix Concrete', 'file_path': '/Volumes/GoogleDrive/Shared drives/Buffalo Graphics/clients/Estrada Ready Mix Concrete'}\n",
      "{'_id': ObjectId('60a7335d7877a34d71d94104'), 'name': 'Numo RMFG', 'file_path': '/Volumes/GoogleDrive/Shared drives/Buffalo Graphics/clients/Numo RMFG'}\n",
      "{'_id': ObjectId('60a7335d7877a34d71d94105'), 'name': 'Wildcatter Redi-Mix', 'file_path': '/Volumes/GoogleDrive/Shared drives/Buffalo Graphics/clients/Wildcatter Redi-Mix'}\n",
      "{'_id': ObjectId('60a7335d7877a34d71d94106'), 'name': 'Pegasus Link Constructors', 'file_path': '/Volumes/GoogleDrive/Shared drives/Buffalo Graphics/clients/Pegasus Link Constructors'}\n",
      "{'_id': ObjectId('60a7335e7877a34d71d94107'), 'name': 'The Hornet Stop', 'file_path': '/Volumes/GoogleDrive/Shared drives/Buffalo Graphics/clients/The Hornet Stop'}\n",
      "{'_id': ObjectId('60a7335e7877a34d71d94108'), 'name': 'NeBo Trucking Inc', 'file_path': '/Volumes/GoogleDrive/Shared drives/Buffalo Graphics/clients/NeBo Trucking Inc'}\n",
      "{'_id': ObjectId('60a7335e7877a34d71d94109'), 'name': 'Phillips Sitework', 'file_path': '/Volumes/GoogleDrive/Shared drives/Buffalo Graphics/clients/Phillips Sitework'}\n",
      "{'_id': ObjectId('60a7335e7877a34d71d9410a'), 'name': 'Superior Ready Mix', 'file_path': '/Volumes/GoogleDrive/Shared drives/Buffalo Graphics/clients/Superior Ready Mix'}\n",
      "{'_id': ObjectId('60a7335e7877a34d71d9410b'), 'name': 'Nelson Brothers Ready Mix', 'file_path': '/Volumes/GoogleDrive/Shared drives/Buffalo Graphics/clients/Nelson Brothers Ready Mix'}\n",
      "{'_id': ObjectId('60a7335e7877a34d71d9410c'), 'name': 'Precision Gunite', 'file_path': '/Volumes/GoogleDrive/Shared drives/Buffalo Graphics/clients/Precision Gunite'}\n",
      "{'_id': ObjectId('60a7335e7877a34d71d9410d'), 'name': 'CustomVehicle Solutions', 'file_path': '/Volumes/GoogleDrive/Shared drives/Buffalo Graphics/clients/CustomVehicle Solutions'}\n",
      "{'_id': ObjectId('60a7335e7877a34d71d9410e'), 'name': 'Bell Concrete', 'file_path': '/Volumes/GoogleDrive/Shared drives/Buffalo Graphics/clients/Bell Concrete'}\n",
      "{'_id': ObjectId('60a7335e7877a34d71d9410f'), 'name': 'Titan Ready Mix', 'file_path': '/Volumes/GoogleDrive/Shared drives/Buffalo Graphics/clients/Titan Ready Mix'}\n",
      "{'_id': ObjectId('60a7335e7877a34d71d94110'), 'name': 'TAP Leasing', 'file_path': '/Volumes/GoogleDrive/Shared drives/Buffalo Graphics/clients/TAP Leasing'}\n",
      "{'_id': ObjectId('60a7335e7877a34d71d94111'), 'name': \"Charley's Concrete\", 'file_path': \"/Volumes/GoogleDrive/Shared drives/Buffalo Graphics/clients/Charley's Concrete\"}\n",
      "{'_id': ObjectId('60a7335e7877a34d71d94112'), 'name': 'Raptor Concrete', 'file_path': '/Volumes/GoogleDrive/Shared drives/Buffalo Graphics/clients/Raptor Concrete'}\n",
      "{'_id': ObjectId('60a7335e7877a34d71d94113'), 'name': 'Yamaha 3', 'file_path': '/Volumes/GoogleDrive/Shared drives/Buffalo Graphics/clients/Yamaha 3'}\n",
      "{'_id': ObjectId('60a7335e7877a34d71d94114'), 'name': 'Second Chance Boxing', 'file_path': '/Volumes/GoogleDrive/Shared drives/Buffalo Graphics/clients/Second Chance Boxing'}\n",
      "{'_id': ObjectId('60a7335e7877a34d71d94115'), 'name': 'Preferred Materials', 'file_path': '/Volumes/GoogleDrive/Shared drives/Buffalo Graphics/clients/Preferred Materials'}\n",
      "{'_id': ObjectId('60a7335e7877a34d71d94116'), 'name': 'H&H Concrete', 'file_path': '/Volumes/GoogleDrive/Shared drives/Buffalo Graphics/clients/H&H Concrete'}\n",
      "{'_id': ObjectId('60a7335e7877a34d71d94117'), 'name': 'H&S Excavation', 'file_path': '/Volumes/GoogleDrive/Shared drives/Buffalo Graphics/clients/H&S Excavation'}\n",
      "{'_id': ObjectId('60a7335e7877a34d71d94118'), 'name': 'BMCR Concrete', 'file_path': '/Volumes/GoogleDrive/Shared drives/Buffalo Graphics/clients/BMCR Concrete'}\n",
      "{'_id': ObjectId('60a7335e7877a34d71d94119'), 'name': 'C-CON Services', 'file_path': '/Volumes/GoogleDrive/Shared drives/Buffalo Graphics/clients/C-CON Services'}\n",
      "{'_id': ObjectId('60a7335e7877a34d71d9411a'), 'name': 'Estrada Ready Mix Concrete', 'file_path': '/Volumes/GoogleDrive/Shared drives/Buffalo Graphics/clients/Estrada Ready Mix Concrete'}\n",
      "{'_id': ObjectId('60a7335e7877a34d71d9411b'), 'name': 'Numo RMFG', 'file_path': '/Volumes/GoogleDrive/Shared drives/Buffalo Graphics/clients/Numo RMFG'}\n",
      "{'_id': ObjectId('60a7335e7877a34d71d9411c'), 'name': 'Wildcatter Redi-Mix', 'file_path': '/Volumes/GoogleDrive/Shared drives/Buffalo Graphics/clients/Wildcatter Redi-Mix'}\n",
      "{'_id': ObjectId('60a7335e7877a34d71d9411d'), 'name': 'Pegasus Link Constructors', 'file_path': '/Volumes/GoogleDrive/Shared drives/Buffalo Graphics/clients/Pegasus Link Constructors'}\n",
      "{'_id': ObjectId('60a7335f7877a34d71d9411e'), 'name': 'The Hornet Stop', 'file_path': '/Volumes/GoogleDrive/Shared drives/Buffalo Graphics/clients/The Hornet Stop'}\n",
      "{'_id': ObjectId('60a7335f7877a34d71d9411f'), 'name': 'NeBo Trucking Inc', 'file_path': '/Volumes/GoogleDrive/Shared drives/Buffalo Graphics/clients/NeBo Trucking Inc'}\n",
      "{'_id': ObjectId('60a7335f7877a34d71d94120'), 'name': 'Phillips Sitework', 'file_path': '/Volumes/GoogleDrive/Shared drives/Buffalo Graphics/clients/Phillips Sitework'}\n",
      "{'_id': ObjectId('60a7335f7877a34d71d94121'), 'name': 'Superior Ready Mix', 'file_path': '/Volumes/GoogleDrive/Shared drives/Buffalo Graphics/clients/Superior Ready Mix'}\n",
      "{'_id': ObjectId('60a7335f7877a34d71d94122'), 'name': 'Nelson Brothers Ready Mix', 'file_path': '/Volumes/GoogleDrive/Shared drives/Buffalo Graphics/clients/Nelson Brothers Ready Mix'}\n",
      "{'_id': ObjectId('60a7335f7877a34d71d94123'), 'name': 'Precision Gunite', 'file_path': '/Volumes/GoogleDrive/Shared drives/Buffalo Graphics/clients/Precision Gunite'}\n",
      "{'_id': ObjectId('60a7335f7877a34d71d94124'), 'name': 'CustomVehicle Solutions', 'file_path': '/Volumes/GoogleDrive/Shared drives/Buffalo Graphics/clients/CustomVehicle Solutions'}\n",
      "{'_id': ObjectId('60a80adb7877a34d71d94129'), 'name': 'LC Services', 'file_path': '/Volumes/GoogleDrive/Shared drives/Buffalo Graphics/clients/LC Services'}\n",
      "{'_id': ObjectId('60a80adc7877a34d71d9412a'), 'name': 'Bell Concrete', 'file_path': '/Volumes/GoogleDrive/Shared drives/Buffalo Graphics/clients/Bell Concrete'}\n",
      "{'_id': ObjectId('60a80adc7877a34d71d9412b'), 'name': 'Titan Ready Mix', 'file_path': '/Volumes/GoogleDrive/Shared drives/Buffalo Graphics/clients/Titan Ready Mix'}\n",
      "{'_id': ObjectId('60a80adc7877a34d71d9412c'), 'name': 'TAP Leasing', 'file_path': '/Volumes/GoogleDrive/Shared drives/Buffalo Graphics/clients/TAP Leasing'}\n",
      "{'_id': ObjectId('60a80adc7877a34d71d9412d'), 'name': \"Charley's Concrete\", 'file_path': \"/Volumes/GoogleDrive/Shared drives/Buffalo Graphics/clients/Charley's Concrete\"}\n",
      "{'_id': ObjectId('60a80adc7877a34d71d9412e'), 'name': 'Raptor Concrete', 'file_path': '/Volumes/GoogleDrive/Shared drives/Buffalo Graphics/clients/Raptor Concrete'}\n",
      "{'_id': ObjectId('60a80adc7877a34d71d9412f'), 'name': 'Yamaha 3', 'file_path': '/Volumes/GoogleDrive/Shared drives/Buffalo Graphics/clients/Yamaha 3'}\n",
      "{'_id': ObjectId('60a80adc7877a34d71d94130'), 'name': 'Second Chance Boxing', 'file_path': '/Volumes/GoogleDrive/Shared drives/Buffalo Graphics/clients/Second Chance Boxing'}\n",
      "{'_id': ObjectId('60a80adc7877a34d71d94131'), 'name': 'Preferred Materials', 'file_path': '/Volumes/GoogleDrive/Shared drives/Buffalo Graphics/clients/Preferred Materials'}\n",
      "{'_id': ObjectId('60a80adc7877a34d71d94132'), 'name': 'H&H Concrete', 'file_path': '/Volumes/GoogleDrive/Shared drives/Buffalo Graphics/clients/H&H Concrete'}\n",
      "{'_id': ObjectId('60a80add7877a34d71d94133'), 'name': 'H&S Excavation', 'file_path': '/Volumes/GoogleDrive/Shared drives/Buffalo Graphics/clients/H&S Excavation'}\n",
      "{'_id': ObjectId('60a80add7877a34d71d94134'), 'name': 'BMCR Concrete', 'file_path': '/Volumes/GoogleDrive/Shared drives/Buffalo Graphics/clients/BMCR Concrete'}\n",
      "{'_id': ObjectId('60a80add7877a34d71d94135'), 'name': 'C-CON Services', 'file_path': '/Volumes/GoogleDrive/Shared drives/Buffalo Graphics/clients/C-CON Services'}\n",
      "{'_id': ObjectId('60a80add7877a34d71d94136'), 'name': 'Estrada Ready Mix Concrete', 'file_path': '/Volumes/GoogleDrive/Shared drives/Buffalo Graphics/clients/Estrada Ready Mix Concrete'}\n",
      "{'_id': ObjectId('60a80add7877a34d71d94137'), 'name': 'Numo RMFG', 'file_path': '/Volumes/GoogleDrive/Shared drives/Buffalo Graphics/clients/Numo RMFG'}\n",
      "{'_id': ObjectId('60a80add7877a34d71d94138'), 'name': 'Wildcatter Redi-Mix', 'file_path': '/Volumes/GoogleDrive/Shared drives/Buffalo Graphics/clients/Wildcatter Redi-Mix'}\n",
      "{'_id': ObjectId('60a80add7877a34d71d94139'), 'name': 'Pegasus Link Constructors', 'file_path': '/Volumes/GoogleDrive/Shared drives/Buffalo Graphics/clients/Pegasus Link Constructors'}\n",
      "{'_id': ObjectId('60a80add7877a34d71d9413a'), 'name': 'The Hornet Stop', 'file_path': '/Volumes/GoogleDrive/Shared drives/Buffalo Graphics/clients/The Hornet Stop'}\n",
      "{'_id': ObjectId('60a80add7877a34d71d9413b'), 'name': 'NeBo Trucking Inc', 'file_path': '/Volumes/GoogleDrive/Shared drives/Buffalo Graphics/clients/NeBo Trucking Inc'}\n",
      "{'_id': ObjectId('60a80add7877a34d71d9413c'), 'name': 'Phillips Sitework', 'file_path': '/Volumes/GoogleDrive/Shared drives/Buffalo Graphics/clients/Phillips Sitework'}\n",
      "{'_id': ObjectId('60a80add7877a34d71d9413d'), 'name': 'Superior Ready Mix', 'file_path': '/Volumes/GoogleDrive/Shared drives/Buffalo Graphics/clients/Superior Ready Mix'}\n",
      "{'_id': ObjectId('60a80add7877a34d71d9413e'), 'name': 'Nelson Brothers Ready Mix', 'file_path': '/Volumes/GoogleDrive/Shared drives/Buffalo Graphics/clients/Nelson Brothers Ready Mix'}\n",
      "{'_id': ObjectId('60a80add7877a34d71d9413f'), 'name': 'Precision Gunite', 'file_path': '/Volumes/GoogleDrive/Shared drives/Buffalo Graphics/clients/Precision Gunite'}\n",
      "{'_id': ObjectId('60a80add7877a34d71d94140'), 'name': 'CustomVehicle Solutions', 'file_path': '/Volumes/GoogleDrive/Shared drives/Buffalo Graphics/clients/CustomVehicle Solutions'}\n",
      "{'_id': ObjectId('60a80add7877a34d71d94141'), 'name': 'LC Services', 'file_path': '/Volumes/GoogleDrive/Shared drives/Buffalo Graphics/clients/LC Services'}\n"
     ]
    }
   ],
   "source": [
    "clients = []\n",
    "\n",
    "for client in db[\"clients\"].find():\n",
    "    print(client)\n",
    "    for job in db[\"jobs\"].find({\"client_id\":client[\"_id\"]}):\n",
    "        if job.get(\"client_id\",None)!=None:\n",
    "            job_files = job_file_doc(job)\n",
    "            db[\"jobs\"].update_one(job,{\"$set\":{'files':job_files}})\n",
    "    # if 'name' in c:\n",
    "    #     print(link_jobs({'name': c['name']}))\n"
   ]
  },
  {
   "cell_type": "code",
   "execution_count": null,
   "metadata": {},
   "outputs": [],
   "source": []
  },
  {
   "cell_type": "markdown",
   "metadata": {},
   "source": [
    "## DELETE DB"
   ]
  },
  {
   "cell_type": "code",
   "execution_count": 19,
   "metadata": {},
   "outputs": [
    {
     "data": {
      "text/plain": "<pymongo.results.DeleteResult at 0x110b98280>"
     },
     "execution_count": 19,
     "metadata": {},
     "output_type": "execute_result"
    }
   ],
   "source": [
    "db[\"clients\"].delete_many({})\n",
    "db[\"jobs\"].delete_many({})\n",
    "db[\"files\"].delete_many({})"
   ]
  },
  {
   "cell_type": "code",
   "execution_count": null,
   "metadata": {},
   "outputs": [],
   "source": []
  },
  {
   "cell_type": "markdown",
   "metadata": {},
   "source": []
  }
 ],
 "metadata": {
  "kernelspec": {
   "display_name": "Python 3.9.5 64-bit",
   "name": "python395jvsc74a57bd0aee8b7b246df8f9039afb4144a1f6fd8d2ca17a180786b69acc140d282b71a49"
  },
  "language_info": {
   "codemirror_mode": {
    "name": "ipython",
    "version": 3
   },
   "file_extension": ".py",
   "mimetype": "text/x-python",
   "name": "python",
   "nbconvert_exporter": "python",
   "pygments_lexer": "ipython3",
   "version": "3.9.5"
  },
  "metadata": {
   "interpreter": {
    "hash": "aee8b7b246df8f9039afb4144a1f6fd8d2ca17a180786b69acc140d282b71a49"
   }
  },
  "orig_nbformat": 3
 },
 "nbformat": 4,
 "nbformat_minor": 2
}